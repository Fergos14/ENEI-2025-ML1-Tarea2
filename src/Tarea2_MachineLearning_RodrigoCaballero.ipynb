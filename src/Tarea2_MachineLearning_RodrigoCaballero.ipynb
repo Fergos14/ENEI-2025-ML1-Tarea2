{
  "cells": [
    {
      "cell_type": "code",
      "execution_count": 293,
      "metadata": {
        "id": "3neLozwdsK27"
      },
      "outputs": [],
      "source": [
        "!pip install ucimlrepo -q\n"
      ]
    },
    {
      "cell_type": "code",
      "execution_count": 365,
      "metadata": {
        "id": "LzaJPr69xpRf"
      },
      "outputs": [],
      "source": [
        "#Numpy, pandasy random\n",
        "import numpy as np\n",
        "import pandas as pd\n",
        "import random\n",
        "\n",
        "np.random.seed(1) #Semillas fijas\n",
        "random.seed(1) #Semillas fijas\n",
        "\n",
        "\n",
        "#Funciones de sklearn\n",
        "from sklearn.model_selection import train_test_split\n",
        "from sklearn.impute import KNNImputer\n",
        "from sklearn.preprocessing import StandardScaler, OneHotEncoder\n",
        "from sklearn.linear_model import LogisticRegression\n",
        "from sklearn.pipeline import Pipeline\n",
        "from sklearn.compose import ColumnTransformer\n",
        "\n",
        "#Plots\n",
        "import matplotlib.pyplot as plt\n",
        "\n",
        "#Métricas\n",
        "from sklearn.metrics import accuracy_score, confusion_matrix, classification_report\n",
        "\n",
        "#Datasets\n",
        "from sklearn.datasets import load_wine\n",
        "from ucimlrepo import fetch_ucirepo"
      ]
    },
    {
      "cell_type": "markdown",
      "metadata": {
        "id": "u2r7Wk5-EfeE"
      },
      "source": [
        "# Part A"
      ]
    },
    {
      "cell_type": "markdown",
      "metadata": {
        "id": "JI9sJnLSOHVd"
      },
      "source": [
        "## Features Information"
      ]
    },
    {
      "cell_type": "code",
      "execution_count": 295,
      "metadata": {
        "id": "FbWuJNOEVV5_"
      },
      "outputs": [],
      "source": [
        "#numeric= 'age', 'trestbp', 'chol', 'thalach', 'oldpeak', 'slope', 'ca'\n",
        "#categorical = 'sex','cp', 'fbs', 'restecg', 'exang', 'thal'"
      ]
    },
    {
      "cell_type": "markdown",
      "metadata": {
        "id": "UFP4ZaX7LfAr"
      },
      "source": [
        "age: age in years  **(Numeric)**  \n",
        "sex: sex (1 = male; 0 = female) **(Categorical)**  \n",
        "cp: chest pain type  **(Categorical)**  \n",
        "\n",
        "1. Value 1: typical angina  \n",
        "2. Value 2: atypical angina  \n",
        "3. Value 3: non-anginal pain  \n",
        "4. Value 4: asymptomatic  \n",
        "\n",
        "trestbps: resting blood pressure (in mm Hg on admission to the hospital) **(Numeric)**    \n",
        "chol: serum cholestoral in mg/dl  **(Numeric)**  \n",
        "fbs: (fasting blood sugar > 120 mg/dl)  (1 = true; 0 = false) **(Categorical)**   \n",
        "restecg: resting electrocardiographic results **(Categorical)**    \n",
        "\n",
        "1. Value 0: normal  \n",
        "2. Value 1: having ST-T wave abnormality (T wave inversions and/or ST elevation or depression of > 0.05 mV)  \n",
        "3. Value 2: showing probable or definite left ventricular hypertrophy by Estes' criteria\n",
        "\n",
        "thalach: maximum heart rate achieved  **(Numeric)**  \n",
        "exang: exercise induced angina (1 = yes; 0 = no)  **(Categorical)**  \n",
        "oldpeak = ST depression induced by exercise relative to rest  **(Numeric)**  \n",
        "\n",
        "slope: the slope of the peak exercise ST segment **(Ordinal/Numeric)**  \n",
        "1.   upsloping\n",
        "2.   flat\n",
        "3.   downsloping\n",
        "\n",
        "ca: number of major vessels (0-3) colored by flourosopy  **(Numeric)**  \n",
        "thal: 3 = normal; 6 = fixed defect; 7 = reversable defect  **(Categorical)**  \n"
      ]
    },
    {
      "cell_type": "code",
      "execution_count": 366,
      "metadata": {
        "id": "jZ9hBec9Eau2"
      },
      "outputs": [],
      "source": [
        "heart_disease = fetch_ucirepo(id = 45)\n",
        "X = heart_disease.data.features # Características\n",
        "Y = heart_disease.data.targets # heart disease diagnosis"
      ]
    },
    {
      "cell_type": "code",
      "execution_count": 367,
      "metadata": {
        "colab": {
          "base_uri": "https://localhost:8080/",
          "height": 272
        },
        "id": "aCpw2ay6_vlj",
        "outputId": "654c2740-da4f-4a30-9527-3bf94c017219"
      },
      "outputs": [
        {
          "output_type": "execute_result",
          "data": {
            "text/plain": [
              "num\n",
              "0      164\n",
              "1       55\n",
              "2       36\n",
              "3       35\n",
              "4       13\n",
              "Name: count, dtype: int64"
            ],
            "text/html": [
              "<div>\n",
              "<style scoped>\n",
              "    .dataframe tbody tr th:only-of-type {\n",
              "        vertical-align: middle;\n",
              "    }\n",
              "\n",
              "    .dataframe tbody tr th {\n",
              "        vertical-align: top;\n",
              "    }\n",
              "\n",
              "    .dataframe thead th {\n",
              "        text-align: right;\n",
              "    }\n",
              "</style>\n",
              "<table border=\"1\" class=\"dataframe\">\n",
              "  <thead>\n",
              "    <tr style=\"text-align: right;\">\n",
              "      <th></th>\n",
              "      <th>count</th>\n",
              "    </tr>\n",
              "    <tr>\n",
              "      <th>num</th>\n",
              "      <th></th>\n",
              "    </tr>\n",
              "  </thead>\n",
              "  <tbody>\n",
              "    <tr>\n",
              "      <th>0</th>\n",
              "      <td>164</td>\n",
              "    </tr>\n",
              "    <tr>\n",
              "      <th>1</th>\n",
              "      <td>55</td>\n",
              "    </tr>\n",
              "    <tr>\n",
              "      <th>2</th>\n",
              "      <td>36</td>\n",
              "    </tr>\n",
              "    <tr>\n",
              "      <th>3</th>\n",
              "      <td>35</td>\n",
              "    </tr>\n",
              "    <tr>\n",
              "      <th>4</th>\n",
              "      <td>13</td>\n",
              "    </tr>\n",
              "  </tbody>\n",
              "</table>\n",
              "</div><br><label><b>dtype:</b> int64</label>"
            ]
          },
          "metadata": {},
          "execution_count": 367
        }
      ],
      "source": [
        "Y.value_counts()"
      ]
    },
    {
      "cell_type": "code",
      "execution_count": 368,
      "metadata": {
        "id": "2raDB_Fw_z0u"
      },
      "outputs": [],
      "source": [
        "Y=Y.replace({0:0,1:1,2:1,3:1,4:1})"
      ]
    },
    {
      "cell_type": "code",
      "execution_count": 369,
      "metadata": {
        "colab": {
          "base_uri": "https://localhost:8080/",
          "height": 0
        },
        "id": "ND9cF3OWRGH2",
        "outputId": "3dd845cf-721f-4f41-b2c4-cc89fe20bc68"
      },
      "outputs": [
        {
          "output_type": "execute_result",
          "data": {
            "text/plain": [
              "(303, 13)"
            ]
          },
          "metadata": {},
          "execution_count": 369
        }
      ],
      "source": [
        "X.shape"
      ]
    },
    {
      "cell_type": "code",
      "execution_count": 370,
      "metadata": {
        "colab": {
          "base_uri": "https://localhost:8080/",
          "height": 491
        },
        "id": "g6OyMXy8N7pU",
        "outputId": "9d978f7a-78f7-47d6-c933-bcfb80332566"
      },
      "outputs": [
        {
          "output_type": "execute_result",
          "data": {
            "text/plain": [
              "age         0\n",
              "sex         0\n",
              "cp          0\n",
              "trestbps    0\n",
              "chol        0\n",
              "fbs         0\n",
              "restecg     0\n",
              "thalach     0\n",
              "exang       0\n",
              "oldpeak     0\n",
              "slope       0\n",
              "ca          4\n",
              "thal        2\n",
              "dtype: int64"
            ],
            "text/html": [
              "<div>\n",
              "<style scoped>\n",
              "    .dataframe tbody tr th:only-of-type {\n",
              "        vertical-align: middle;\n",
              "    }\n",
              "\n",
              "    .dataframe tbody tr th {\n",
              "        vertical-align: top;\n",
              "    }\n",
              "\n",
              "    .dataframe thead th {\n",
              "        text-align: right;\n",
              "    }\n",
              "</style>\n",
              "<table border=\"1\" class=\"dataframe\">\n",
              "  <thead>\n",
              "    <tr style=\"text-align: right;\">\n",
              "      <th></th>\n",
              "      <th>0</th>\n",
              "    </tr>\n",
              "  </thead>\n",
              "  <tbody>\n",
              "    <tr>\n",
              "      <th>age</th>\n",
              "      <td>0</td>\n",
              "    </tr>\n",
              "    <tr>\n",
              "      <th>sex</th>\n",
              "      <td>0</td>\n",
              "    </tr>\n",
              "    <tr>\n",
              "      <th>cp</th>\n",
              "      <td>0</td>\n",
              "    </tr>\n",
              "    <tr>\n",
              "      <th>trestbps</th>\n",
              "      <td>0</td>\n",
              "    </tr>\n",
              "    <tr>\n",
              "      <th>chol</th>\n",
              "      <td>0</td>\n",
              "    </tr>\n",
              "    <tr>\n",
              "      <th>fbs</th>\n",
              "      <td>0</td>\n",
              "    </tr>\n",
              "    <tr>\n",
              "      <th>restecg</th>\n",
              "      <td>0</td>\n",
              "    </tr>\n",
              "    <tr>\n",
              "      <th>thalach</th>\n",
              "      <td>0</td>\n",
              "    </tr>\n",
              "    <tr>\n",
              "      <th>exang</th>\n",
              "      <td>0</td>\n",
              "    </tr>\n",
              "    <tr>\n",
              "      <th>oldpeak</th>\n",
              "      <td>0</td>\n",
              "    </tr>\n",
              "    <tr>\n",
              "      <th>slope</th>\n",
              "      <td>0</td>\n",
              "    </tr>\n",
              "    <tr>\n",
              "      <th>ca</th>\n",
              "      <td>4</td>\n",
              "    </tr>\n",
              "    <tr>\n",
              "      <th>thal</th>\n",
              "      <td>2</td>\n",
              "    </tr>\n",
              "  </tbody>\n",
              "</table>\n",
              "</div><br><label><b>dtype:</b> int64</label>"
            ]
          },
          "metadata": {},
          "execution_count": 370
        }
      ],
      "source": [
        "X.isnull().sum() #Existen pocos nulos"
      ]
    },
    {
      "cell_type": "code",
      "execution_count": 371,
      "metadata": {
        "colab": {
          "base_uri": "https://localhost:8080/",
          "height": 237
        },
        "id": "gSJSP0KeP3-A",
        "outputId": "da625010-7bca-4371-ed7e-8d4a54977a06"
      },
      "outputs": [
        {
          "output_type": "execute_result",
          "data": {
            "text/plain": [
              "     age  sex  cp  trestbps  chol  fbs  restecg  thalach  exang  oldpeak  \\\n",
              "87    53    0   3       128   216    0        2      115      0      0.0   \n",
              "166   52    1   3       138   223    0        0      169      0      0.0   \n",
              "192   43    1   4       132   247    1        2      143      1      0.1   \n",
              "266   52    1   4       128   204    1        0      156      1      1.0   \n",
              "287   58    1   2       125   220    0        0      144      0      0.4   \n",
              "302   38    1   3       138   175    0        0      173      0      0.0   \n",
              "\n",
              "     slope   ca  thal  \n",
              "87       1  0.0   NaN  \n",
              "166      1  NaN   3.0  \n",
              "192      2  NaN   7.0  \n",
              "266      2  0.0   NaN  \n",
              "287      2  NaN   7.0  \n",
              "302      1  NaN   3.0  "
            ],
            "text/html": [
              "\n",
              "  <div id=\"df-375ea3c0-bc94-4840-9cd6-5433969d5829\" class=\"colab-df-container\">\n",
              "    <div>\n",
              "<style scoped>\n",
              "    .dataframe tbody tr th:only-of-type {\n",
              "        vertical-align: middle;\n",
              "    }\n",
              "\n",
              "    .dataframe tbody tr th {\n",
              "        vertical-align: top;\n",
              "    }\n",
              "\n",
              "    .dataframe thead th {\n",
              "        text-align: right;\n",
              "    }\n",
              "</style>\n",
              "<table border=\"1\" class=\"dataframe\">\n",
              "  <thead>\n",
              "    <tr style=\"text-align: right;\">\n",
              "      <th></th>\n",
              "      <th>age</th>\n",
              "      <th>sex</th>\n",
              "      <th>cp</th>\n",
              "      <th>trestbps</th>\n",
              "      <th>chol</th>\n",
              "      <th>fbs</th>\n",
              "      <th>restecg</th>\n",
              "      <th>thalach</th>\n",
              "      <th>exang</th>\n",
              "      <th>oldpeak</th>\n",
              "      <th>slope</th>\n",
              "      <th>ca</th>\n",
              "      <th>thal</th>\n",
              "    </tr>\n",
              "  </thead>\n",
              "  <tbody>\n",
              "    <tr>\n",
              "      <th>87</th>\n",
              "      <td>53</td>\n",
              "      <td>0</td>\n",
              "      <td>3</td>\n",
              "      <td>128</td>\n",
              "      <td>216</td>\n",
              "      <td>0</td>\n",
              "      <td>2</td>\n",
              "      <td>115</td>\n",
              "      <td>0</td>\n",
              "      <td>0.0</td>\n",
              "      <td>1</td>\n",
              "      <td>0.0</td>\n",
              "      <td>NaN</td>\n",
              "    </tr>\n",
              "    <tr>\n",
              "      <th>166</th>\n",
              "      <td>52</td>\n",
              "      <td>1</td>\n",
              "      <td>3</td>\n",
              "      <td>138</td>\n",
              "      <td>223</td>\n",
              "      <td>0</td>\n",
              "      <td>0</td>\n",
              "      <td>169</td>\n",
              "      <td>0</td>\n",
              "      <td>0.0</td>\n",
              "      <td>1</td>\n",
              "      <td>NaN</td>\n",
              "      <td>3.0</td>\n",
              "    </tr>\n",
              "    <tr>\n",
              "      <th>192</th>\n",
              "      <td>43</td>\n",
              "      <td>1</td>\n",
              "      <td>4</td>\n",
              "      <td>132</td>\n",
              "      <td>247</td>\n",
              "      <td>1</td>\n",
              "      <td>2</td>\n",
              "      <td>143</td>\n",
              "      <td>1</td>\n",
              "      <td>0.1</td>\n",
              "      <td>2</td>\n",
              "      <td>NaN</td>\n",
              "      <td>7.0</td>\n",
              "    </tr>\n",
              "    <tr>\n",
              "      <th>266</th>\n",
              "      <td>52</td>\n",
              "      <td>1</td>\n",
              "      <td>4</td>\n",
              "      <td>128</td>\n",
              "      <td>204</td>\n",
              "      <td>1</td>\n",
              "      <td>0</td>\n",
              "      <td>156</td>\n",
              "      <td>1</td>\n",
              "      <td>1.0</td>\n",
              "      <td>2</td>\n",
              "      <td>0.0</td>\n",
              "      <td>NaN</td>\n",
              "    </tr>\n",
              "    <tr>\n",
              "      <th>287</th>\n",
              "      <td>58</td>\n",
              "      <td>1</td>\n",
              "      <td>2</td>\n",
              "      <td>125</td>\n",
              "      <td>220</td>\n",
              "      <td>0</td>\n",
              "      <td>0</td>\n",
              "      <td>144</td>\n",
              "      <td>0</td>\n",
              "      <td>0.4</td>\n",
              "      <td>2</td>\n",
              "      <td>NaN</td>\n",
              "      <td>7.0</td>\n",
              "    </tr>\n",
              "    <tr>\n",
              "      <th>302</th>\n",
              "      <td>38</td>\n",
              "      <td>1</td>\n",
              "      <td>3</td>\n",
              "      <td>138</td>\n",
              "      <td>175</td>\n",
              "      <td>0</td>\n",
              "      <td>0</td>\n",
              "      <td>173</td>\n",
              "      <td>0</td>\n",
              "      <td>0.0</td>\n",
              "      <td>1</td>\n",
              "      <td>NaN</td>\n",
              "      <td>3.0</td>\n",
              "    </tr>\n",
              "  </tbody>\n",
              "</table>\n",
              "</div>\n",
              "    <div class=\"colab-df-buttons\">\n",
              "\n",
              "  <div class=\"colab-df-container\">\n",
              "    <button class=\"colab-df-convert\" onclick=\"convertToInteractive('df-375ea3c0-bc94-4840-9cd6-5433969d5829')\"\n",
              "            title=\"Convert this dataframe to an interactive table.\"\n",
              "            style=\"display:none;\">\n",
              "\n",
              "  <svg xmlns=\"http://www.w3.org/2000/svg\" height=\"24px\" viewBox=\"0 -960 960 960\">\n",
              "    <path d=\"M120-120v-720h720v720H120Zm60-500h600v-160H180v160Zm220 220h160v-160H400v160Zm0 220h160v-160H400v160ZM180-400h160v-160H180v160Zm440 0h160v-160H620v160ZM180-180h160v-160H180v160Zm440 0h160v-160H620v160Z\"/>\n",
              "  </svg>\n",
              "    </button>\n",
              "\n",
              "  <style>\n",
              "    .colab-df-container {\n",
              "      display:flex;\n",
              "      gap: 12px;\n",
              "    }\n",
              "\n",
              "    .colab-df-convert {\n",
              "      background-color: #E8F0FE;\n",
              "      border: none;\n",
              "      border-radius: 50%;\n",
              "      cursor: pointer;\n",
              "      display: none;\n",
              "      fill: #1967D2;\n",
              "      height: 32px;\n",
              "      padding: 0 0 0 0;\n",
              "      width: 32px;\n",
              "    }\n",
              "\n",
              "    .colab-df-convert:hover {\n",
              "      background-color: #E2EBFA;\n",
              "      box-shadow: 0px 1px 2px rgba(60, 64, 67, 0.3), 0px 1px 3px 1px rgba(60, 64, 67, 0.15);\n",
              "      fill: #174EA6;\n",
              "    }\n",
              "\n",
              "    .colab-df-buttons div {\n",
              "      margin-bottom: 4px;\n",
              "    }\n",
              "\n",
              "    [theme=dark] .colab-df-convert {\n",
              "      background-color: #3B4455;\n",
              "      fill: #D2E3FC;\n",
              "    }\n",
              "\n",
              "    [theme=dark] .colab-df-convert:hover {\n",
              "      background-color: #434B5C;\n",
              "      box-shadow: 0px 1px 3px 1px rgba(0, 0, 0, 0.15);\n",
              "      filter: drop-shadow(0px 1px 2px rgba(0, 0, 0, 0.3));\n",
              "      fill: #FFFFFF;\n",
              "    }\n",
              "  </style>\n",
              "\n",
              "    <script>\n",
              "      const buttonEl =\n",
              "        document.querySelector('#df-375ea3c0-bc94-4840-9cd6-5433969d5829 button.colab-df-convert');\n",
              "      buttonEl.style.display =\n",
              "        google.colab.kernel.accessAllowed ? 'block' : 'none';\n",
              "\n",
              "      async function convertToInteractive(key) {\n",
              "        const element = document.querySelector('#df-375ea3c0-bc94-4840-9cd6-5433969d5829');\n",
              "        const dataTable =\n",
              "          await google.colab.kernel.invokeFunction('convertToInteractive',\n",
              "                                                    [key], {});\n",
              "        if (!dataTable) return;\n",
              "\n",
              "        const docLinkHtml = 'Like what you see? Visit the ' +\n",
              "          '<a target=\"_blank\" href=https://colab.research.google.com/notebooks/data_table.ipynb>data table notebook</a>'\n",
              "          + ' to learn more about interactive tables.';\n",
              "        element.innerHTML = '';\n",
              "        dataTable['output_type'] = 'display_data';\n",
              "        await google.colab.output.renderOutput(dataTable, element);\n",
              "        const docLink = document.createElement('div');\n",
              "        docLink.innerHTML = docLinkHtml;\n",
              "        element.appendChild(docLink);\n",
              "      }\n",
              "    </script>\n",
              "  </div>\n",
              "\n",
              "\n",
              "    <div id=\"df-23663279-0237-4709-93b0-2395f9cd3385\">\n",
              "      <button class=\"colab-df-quickchart\" onclick=\"quickchart('df-23663279-0237-4709-93b0-2395f9cd3385')\"\n",
              "                title=\"Suggest charts\"\n",
              "                style=\"display:none;\">\n",
              "\n",
              "<svg xmlns=\"http://www.w3.org/2000/svg\" height=\"24px\"viewBox=\"0 0 24 24\"\n",
              "     width=\"24px\">\n",
              "    <g>\n",
              "        <path d=\"M19 3H5c-1.1 0-2 .9-2 2v14c0 1.1.9 2 2 2h14c1.1 0 2-.9 2-2V5c0-1.1-.9-2-2-2zM9 17H7v-7h2v7zm4 0h-2V7h2v10zm4 0h-2v-4h2v4z\"/>\n",
              "    </g>\n",
              "</svg>\n",
              "      </button>\n",
              "\n",
              "<style>\n",
              "  .colab-df-quickchart {\n",
              "      --bg-color: #E8F0FE;\n",
              "      --fill-color: #1967D2;\n",
              "      --hover-bg-color: #E2EBFA;\n",
              "      --hover-fill-color: #174EA6;\n",
              "      --disabled-fill-color: #AAA;\n",
              "      --disabled-bg-color: #DDD;\n",
              "  }\n",
              "\n",
              "  [theme=dark] .colab-df-quickchart {\n",
              "      --bg-color: #3B4455;\n",
              "      --fill-color: #D2E3FC;\n",
              "      --hover-bg-color: #434B5C;\n",
              "      --hover-fill-color: #FFFFFF;\n",
              "      --disabled-bg-color: #3B4455;\n",
              "      --disabled-fill-color: #666;\n",
              "  }\n",
              "\n",
              "  .colab-df-quickchart {\n",
              "    background-color: var(--bg-color);\n",
              "    border: none;\n",
              "    border-radius: 50%;\n",
              "    cursor: pointer;\n",
              "    display: none;\n",
              "    fill: var(--fill-color);\n",
              "    height: 32px;\n",
              "    padding: 0;\n",
              "    width: 32px;\n",
              "  }\n",
              "\n",
              "  .colab-df-quickchart:hover {\n",
              "    background-color: var(--hover-bg-color);\n",
              "    box-shadow: 0 1px 2px rgba(60, 64, 67, 0.3), 0 1px 3px 1px rgba(60, 64, 67, 0.15);\n",
              "    fill: var(--button-hover-fill-color);\n",
              "  }\n",
              "\n",
              "  .colab-df-quickchart-complete:disabled,\n",
              "  .colab-df-quickchart-complete:disabled:hover {\n",
              "    background-color: var(--disabled-bg-color);\n",
              "    fill: var(--disabled-fill-color);\n",
              "    box-shadow: none;\n",
              "  }\n",
              "\n",
              "  .colab-df-spinner {\n",
              "    border: 2px solid var(--fill-color);\n",
              "    border-color: transparent;\n",
              "    border-bottom-color: var(--fill-color);\n",
              "    animation:\n",
              "      spin 1s steps(1) infinite;\n",
              "  }\n",
              "\n",
              "  @keyframes spin {\n",
              "    0% {\n",
              "      border-color: transparent;\n",
              "      border-bottom-color: var(--fill-color);\n",
              "      border-left-color: var(--fill-color);\n",
              "    }\n",
              "    20% {\n",
              "      border-color: transparent;\n",
              "      border-left-color: var(--fill-color);\n",
              "      border-top-color: var(--fill-color);\n",
              "    }\n",
              "    30% {\n",
              "      border-color: transparent;\n",
              "      border-left-color: var(--fill-color);\n",
              "      border-top-color: var(--fill-color);\n",
              "      border-right-color: var(--fill-color);\n",
              "    }\n",
              "    40% {\n",
              "      border-color: transparent;\n",
              "      border-right-color: var(--fill-color);\n",
              "      border-top-color: var(--fill-color);\n",
              "    }\n",
              "    60% {\n",
              "      border-color: transparent;\n",
              "      border-right-color: var(--fill-color);\n",
              "    }\n",
              "    80% {\n",
              "      border-color: transparent;\n",
              "      border-right-color: var(--fill-color);\n",
              "      border-bottom-color: var(--fill-color);\n",
              "    }\n",
              "    90% {\n",
              "      border-color: transparent;\n",
              "      border-bottom-color: var(--fill-color);\n",
              "    }\n",
              "  }\n",
              "</style>\n",
              "\n",
              "      <script>\n",
              "        async function quickchart(key) {\n",
              "          const quickchartButtonEl =\n",
              "            document.querySelector('#' + key + ' button');\n",
              "          quickchartButtonEl.disabled = true;  // To prevent multiple clicks.\n",
              "          quickchartButtonEl.classList.add('colab-df-spinner');\n",
              "          try {\n",
              "            const charts = await google.colab.kernel.invokeFunction(\n",
              "                'suggestCharts', [key], {});\n",
              "          } catch (error) {\n",
              "            console.error('Error during call to suggestCharts:', error);\n",
              "          }\n",
              "          quickchartButtonEl.classList.remove('colab-df-spinner');\n",
              "          quickchartButtonEl.classList.add('colab-df-quickchart-complete');\n",
              "        }\n",
              "        (() => {\n",
              "          let quickchartButtonEl =\n",
              "            document.querySelector('#df-23663279-0237-4709-93b0-2395f9cd3385 button');\n",
              "          quickchartButtonEl.style.display =\n",
              "            google.colab.kernel.accessAllowed ? 'block' : 'none';\n",
              "        })();\n",
              "      </script>\n",
              "    </div>\n",
              "\n",
              "    </div>\n",
              "  </div>\n"
            ],
            "application/vnd.google.colaboratory.intrinsic+json": {
              "type": "dataframe",
              "summary": "{\n  \"name\": \"X[(X\",\n  \"rows\": 6,\n  \"fields\": [\n    {\n      \"column\": \"age\",\n      \"properties\": {\n        \"dtype\": \"number\",\n        \"std\": 7,\n        \"min\": 38,\n        \"max\": 58,\n        \"num_unique_values\": 5,\n        \"samples\": [\n          52,\n          38,\n          43\n        ],\n        \"semantic_type\": \"\",\n        \"description\": \"\"\n      }\n    },\n    {\n      \"column\": \"sex\",\n      \"properties\": {\n        \"dtype\": \"number\",\n        \"std\": 0,\n        \"min\": 0,\n        \"max\": 1,\n        \"num_unique_values\": 2,\n        \"samples\": [\n          1,\n          0\n        ],\n        \"semantic_type\": \"\",\n        \"description\": \"\"\n      }\n    },\n    {\n      \"column\": \"cp\",\n      \"properties\": {\n        \"dtype\": \"number\",\n        \"std\": 0,\n        \"min\": 2,\n        \"max\": 4,\n        \"num_unique_values\": 3,\n        \"samples\": [\n          3,\n          4\n        ],\n        \"semantic_type\": \"\",\n        \"description\": \"\"\n      }\n    },\n    {\n      \"column\": \"trestbps\",\n      \"properties\": {\n        \"dtype\": \"number\",\n        \"std\": 5,\n        \"min\": 125,\n        \"max\": 138,\n        \"num_unique_values\": 4,\n        \"samples\": [\n          138,\n          125\n        ],\n        \"semantic_type\": \"\",\n        \"description\": \"\"\n      }\n    },\n    {\n      \"column\": \"chol\",\n      \"properties\": {\n        \"dtype\": \"number\",\n        \"std\": 23,\n        \"min\": 175,\n        \"max\": 247,\n        \"num_unique_values\": 6,\n        \"samples\": [\n          216,\n          223\n        ],\n        \"semantic_type\": \"\",\n        \"description\": \"\"\n      }\n    },\n    {\n      \"column\": \"fbs\",\n      \"properties\": {\n        \"dtype\": \"number\",\n        \"std\": 0,\n        \"min\": 0,\n        \"max\": 1,\n        \"num_unique_values\": 2,\n        \"samples\": [\n          1,\n          0\n        ],\n        \"semantic_type\": \"\",\n        \"description\": \"\"\n      }\n    },\n    {\n      \"column\": \"restecg\",\n      \"properties\": {\n        \"dtype\": \"number\",\n        \"std\": 1,\n        \"min\": 0,\n        \"max\": 2,\n        \"num_unique_values\": 2,\n        \"samples\": [\n          0,\n          2\n        ],\n        \"semantic_type\": \"\",\n        \"description\": \"\"\n      }\n    },\n    {\n      \"column\": \"thalach\",\n      \"properties\": {\n        \"dtype\": \"number\",\n        \"std\": 21,\n        \"min\": 115,\n        \"max\": 173,\n        \"num_unique_values\": 6,\n        \"samples\": [\n          115,\n          169\n        ],\n        \"semantic_type\": \"\",\n        \"description\": \"\"\n      }\n    },\n    {\n      \"column\": \"exang\",\n      \"properties\": {\n        \"dtype\": \"number\",\n        \"std\": 0,\n        \"min\": 0,\n        \"max\": 1,\n        \"num_unique_values\": 2,\n        \"samples\": [\n          1,\n          0\n        ],\n        \"semantic_type\": \"\",\n        \"description\": \"\"\n      }\n    },\n    {\n      \"column\": \"oldpeak\",\n      \"properties\": {\n        \"dtype\": \"number\",\n        \"std\": 0.39874804074753767,\n        \"min\": 0.0,\n        \"max\": 1.0,\n        \"num_unique_values\": 4,\n        \"samples\": [\n          0.1,\n          0.4\n        ],\n        \"semantic_type\": \"\",\n        \"description\": \"\"\n      }\n    },\n    {\n      \"column\": \"slope\",\n      \"properties\": {\n        \"dtype\": \"number\",\n        \"std\": 0,\n        \"min\": 1,\n        \"max\": 2,\n        \"num_unique_values\": 2,\n        \"samples\": [\n          2,\n          1\n        ],\n        \"semantic_type\": \"\",\n        \"description\": \"\"\n      }\n    },\n    {\n      \"column\": \"ca\",\n      \"properties\": {\n        \"dtype\": \"number\",\n        \"std\": 0.0,\n        \"min\": 0.0,\n        \"max\": 0.0,\n        \"num_unique_values\": 1,\n        \"samples\": [\n          0.0\n        ],\n        \"semantic_type\": \"\",\n        \"description\": \"\"\n      }\n    },\n    {\n      \"column\": \"thal\",\n      \"properties\": {\n        \"dtype\": \"number\",\n        \"std\": 2.309401076758503,\n        \"min\": 3.0,\n        \"max\": 7.0,\n        \"num_unique_values\": 2,\n        \"samples\": [\n          7.0\n        ],\n        \"semantic_type\": \"\",\n        \"description\": \"\"\n      }\n    }\n  ]\n}"
            }
          },
          "metadata": {},
          "execution_count": 371
        }
      ],
      "source": [
        "X[(X.ca.isnull()) | (X.thal.isnull())] #Se tratan de filas diferentes, todas"
      ]
    },
    {
      "cell_type": "code",
      "execution_count": 372,
      "metadata": {
        "id": "DwIZV2jJR-6c"
      },
      "outputs": [],
      "source": [
        "#Partición de los datos\n",
        "X_train, X_test, y_train, y_test = train_test_split(X, Y, test_size=0.3, random_state=1) #Se hace la partición 30/70"
      ]
    },
    {
      "cell_type": "code",
      "execution_count": 373,
      "metadata": {
        "id": "9tWH7KEsYxrA"
      },
      "outputs": [],
      "source": [
        "num_cols = [\"age\", \"trestbps\", \"chol\", \"thalach\", \"oldpeak\", \"slope\", \"ca\"]\n",
        "cat_cols = [\"sex\", \"cp\", \"fbs\", \"restecg\", \"exang\", \"thal\"]"
      ]
    },
    {
      "cell_type": "code",
      "execution_count": 374,
      "metadata": {
        "id": "I5BWhrADYOu0"
      },
      "outputs": [],
      "source": [
        "preprocessor = ColumnTransformer([ #Se realizan pipelines de transformación de columnas\n",
        "    (\"num\", Pipeline([\n",
        "        (\"imputer\", KNNImputer(n_neighbors=5)),\n",
        "        (\"scaler\", StandardScaler())\n",
        "    ]), num_cols),\n",
        "    (\"cat\", Pipeline([\n",
        "        (\"imputer\", KNNImputer(n_neighbors=5)),\n",
        "        (\"encoder\", OneHotEncoder(drop=\"first\", handle_unknown=\"ignore\"))\n",
        "    ]), cat_cols)\n",
        "])"
      ]
    },
    {
      "cell_type": "code",
      "execution_count": 375,
      "metadata": {
        "colab": {
          "base_uri": "https://localhost:8080/",
          "height": 188
        },
        "id": "_J0gpdi8Y5OS",
        "outputId": "e525c5b6-e89d-4ca4-e389-341e7db3f77f"
      },
      "outputs": [
        {
          "output_type": "execute_result",
          "data": {
            "text/plain": [
              "ColumnTransformer(transformers=[('num',\n",
              "                                 Pipeline(steps=[('imputer', KNNImputer()),\n",
              "                                                 ('scaler', StandardScaler())]),\n",
              "                                 ['age', 'trestbps', 'chol', 'thalach',\n",
              "                                  'oldpeak', 'slope', 'ca']),\n",
              "                                ('cat',\n",
              "                                 Pipeline(steps=[('imputer', KNNImputer()),\n",
              "                                                 ('encoder',\n",
              "                                                  OneHotEncoder(drop='first',\n",
              "                                                                handle_unknown='ignore'))]),\n",
              "                                 ['sex', 'cp', 'fbs', 'restecg', 'exang',\n",
              "                                  'thal'])])"
            ],
            "text/html": [
              "<style>#sk-container-id-7 {\n",
              "  /* Definition of color scheme common for light and dark mode */\n",
              "  --sklearn-color-text: #000;\n",
              "  --sklearn-color-text-muted: #666;\n",
              "  --sklearn-color-line: gray;\n",
              "  /* Definition of color scheme for unfitted estimators */\n",
              "  --sklearn-color-unfitted-level-0: #fff5e6;\n",
              "  --sklearn-color-unfitted-level-1: #f6e4d2;\n",
              "  --sklearn-color-unfitted-level-2: #ffe0b3;\n",
              "  --sklearn-color-unfitted-level-3: chocolate;\n",
              "  /* Definition of color scheme for fitted estimators */\n",
              "  --sklearn-color-fitted-level-0: #f0f8ff;\n",
              "  --sklearn-color-fitted-level-1: #d4ebff;\n",
              "  --sklearn-color-fitted-level-2: #b3dbfd;\n",
              "  --sklearn-color-fitted-level-3: cornflowerblue;\n",
              "\n",
              "  /* Specific color for light theme */\n",
              "  --sklearn-color-text-on-default-background: var(--sg-text-color, var(--theme-code-foreground, var(--jp-content-font-color1, black)));\n",
              "  --sklearn-color-background: var(--sg-background-color, var(--theme-background, var(--jp-layout-color0, white)));\n",
              "  --sklearn-color-border-box: var(--sg-text-color, var(--theme-code-foreground, var(--jp-content-font-color1, black)));\n",
              "  --sklearn-color-icon: #696969;\n",
              "\n",
              "  @media (prefers-color-scheme: dark) {\n",
              "    /* Redefinition of color scheme for dark theme */\n",
              "    --sklearn-color-text-on-default-background: var(--sg-text-color, var(--theme-code-foreground, var(--jp-content-font-color1, white)));\n",
              "    --sklearn-color-background: var(--sg-background-color, var(--theme-background, var(--jp-layout-color0, #111)));\n",
              "    --sklearn-color-border-box: var(--sg-text-color, var(--theme-code-foreground, var(--jp-content-font-color1, white)));\n",
              "    --sklearn-color-icon: #878787;\n",
              "  }\n",
              "}\n",
              "\n",
              "#sk-container-id-7 {\n",
              "  color: var(--sklearn-color-text);\n",
              "}\n",
              "\n",
              "#sk-container-id-7 pre {\n",
              "  padding: 0;\n",
              "}\n",
              "\n",
              "#sk-container-id-7 input.sk-hidden--visually {\n",
              "  border: 0;\n",
              "  clip: rect(1px 1px 1px 1px);\n",
              "  clip: rect(1px, 1px, 1px, 1px);\n",
              "  height: 1px;\n",
              "  margin: -1px;\n",
              "  overflow: hidden;\n",
              "  padding: 0;\n",
              "  position: absolute;\n",
              "  width: 1px;\n",
              "}\n",
              "\n",
              "#sk-container-id-7 div.sk-dashed-wrapped {\n",
              "  border: 1px dashed var(--sklearn-color-line);\n",
              "  margin: 0 0.4em 0.5em 0.4em;\n",
              "  box-sizing: border-box;\n",
              "  padding-bottom: 0.4em;\n",
              "  background-color: var(--sklearn-color-background);\n",
              "}\n",
              "\n",
              "#sk-container-id-7 div.sk-container {\n",
              "  /* jupyter's `normalize.less` sets `[hidden] { display: none; }`\n",
              "     but bootstrap.min.css set `[hidden] { display: none !important; }`\n",
              "     so we also need the `!important` here to be able to override the\n",
              "     default hidden behavior on the sphinx rendered scikit-learn.org.\n",
              "     See: https://github.com/scikit-learn/scikit-learn/issues/21755 */\n",
              "  display: inline-block !important;\n",
              "  position: relative;\n",
              "}\n",
              "\n",
              "#sk-container-id-7 div.sk-text-repr-fallback {\n",
              "  display: none;\n",
              "}\n",
              "\n",
              "div.sk-parallel-item,\n",
              "div.sk-serial,\n",
              "div.sk-item {\n",
              "  /* draw centered vertical line to link estimators */\n",
              "  background-image: linear-gradient(var(--sklearn-color-text-on-default-background), var(--sklearn-color-text-on-default-background));\n",
              "  background-size: 2px 100%;\n",
              "  background-repeat: no-repeat;\n",
              "  background-position: center center;\n",
              "}\n",
              "\n",
              "/* Parallel-specific style estimator block */\n",
              "\n",
              "#sk-container-id-7 div.sk-parallel-item::after {\n",
              "  content: \"\";\n",
              "  width: 100%;\n",
              "  border-bottom: 2px solid var(--sklearn-color-text-on-default-background);\n",
              "  flex-grow: 1;\n",
              "}\n",
              "\n",
              "#sk-container-id-7 div.sk-parallel {\n",
              "  display: flex;\n",
              "  align-items: stretch;\n",
              "  justify-content: center;\n",
              "  background-color: var(--sklearn-color-background);\n",
              "  position: relative;\n",
              "}\n",
              "\n",
              "#sk-container-id-7 div.sk-parallel-item {\n",
              "  display: flex;\n",
              "  flex-direction: column;\n",
              "}\n",
              "\n",
              "#sk-container-id-7 div.sk-parallel-item:first-child::after {\n",
              "  align-self: flex-end;\n",
              "  width: 50%;\n",
              "}\n",
              "\n",
              "#sk-container-id-7 div.sk-parallel-item:last-child::after {\n",
              "  align-self: flex-start;\n",
              "  width: 50%;\n",
              "}\n",
              "\n",
              "#sk-container-id-7 div.sk-parallel-item:only-child::after {\n",
              "  width: 0;\n",
              "}\n",
              "\n",
              "/* Serial-specific style estimator block */\n",
              "\n",
              "#sk-container-id-7 div.sk-serial {\n",
              "  display: flex;\n",
              "  flex-direction: column;\n",
              "  align-items: center;\n",
              "  background-color: var(--sklearn-color-background);\n",
              "  padding-right: 1em;\n",
              "  padding-left: 1em;\n",
              "}\n",
              "\n",
              "\n",
              "/* Toggleable style: style used for estimator/Pipeline/ColumnTransformer box that is\n",
              "clickable and can be expanded/collapsed.\n",
              "- Pipeline and ColumnTransformer use this feature and define the default style\n",
              "- Estimators will overwrite some part of the style using the `sk-estimator` class\n",
              "*/\n",
              "\n",
              "/* Pipeline and ColumnTransformer style (default) */\n",
              "\n",
              "#sk-container-id-7 div.sk-toggleable {\n",
              "  /* Default theme specific background. It is overwritten whether we have a\n",
              "  specific estimator or a Pipeline/ColumnTransformer */\n",
              "  background-color: var(--sklearn-color-background);\n",
              "}\n",
              "\n",
              "/* Toggleable label */\n",
              "#sk-container-id-7 label.sk-toggleable__label {\n",
              "  cursor: pointer;\n",
              "  display: flex;\n",
              "  width: 100%;\n",
              "  margin-bottom: 0;\n",
              "  padding: 0.5em;\n",
              "  box-sizing: border-box;\n",
              "  text-align: center;\n",
              "  align-items: start;\n",
              "  justify-content: space-between;\n",
              "  gap: 0.5em;\n",
              "}\n",
              "\n",
              "#sk-container-id-7 label.sk-toggleable__label .caption {\n",
              "  font-size: 0.6rem;\n",
              "  font-weight: lighter;\n",
              "  color: var(--sklearn-color-text-muted);\n",
              "}\n",
              "\n",
              "#sk-container-id-7 label.sk-toggleable__label-arrow:before {\n",
              "  /* Arrow on the left of the label */\n",
              "  content: \"▸\";\n",
              "  float: left;\n",
              "  margin-right: 0.25em;\n",
              "  color: var(--sklearn-color-icon);\n",
              "}\n",
              "\n",
              "#sk-container-id-7 label.sk-toggleable__label-arrow:hover:before {\n",
              "  color: var(--sklearn-color-text);\n",
              "}\n",
              "\n",
              "/* Toggleable content - dropdown */\n",
              "\n",
              "#sk-container-id-7 div.sk-toggleable__content {\n",
              "  max-height: 0;\n",
              "  max-width: 0;\n",
              "  overflow: hidden;\n",
              "  text-align: left;\n",
              "  /* unfitted */\n",
              "  background-color: var(--sklearn-color-unfitted-level-0);\n",
              "}\n",
              "\n",
              "#sk-container-id-7 div.sk-toggleable__content.fitted {\n",
              "  /* fitted */\n",
              "  background-color: var(--sklearn-color-fitted-level-0);\n",
              "}\n",
              "\n",
              "#sk-container-id-7 div.sk-toggleable__content pre {\n",
              "  margin: 0.2em;\n",
              "  border-radius: 0.25em;\n",
              "  color: var(--sklearn-color-text);\n",
              "  /* unfitted */\n",
              "  background-color: var(--sklearn-color-unfitted-level-0);\n",
              "}\n",
              "\n",
              "#sk-container-id-7 div.sk-toggleable__content.fitted pre {\n",
              "  /* unfitted */\n",
              "  background-color: var(--sklearn-color-fitted-level-0);\n",
              "}\n",
              "\n",
              "#sk-container-id-7 input.sk-toggleable__control:checked~div.sk-toggleable__content {\n",
              "  /* Expand drop-down */\n",
              "  max-height: 200px;\n",
              "  max-width: 100%;\n",
              "  overflow: auto;\n",
              "}\n",
              "\n",
              "#sk-container-id-7 input.sk-toggleable__control:checked~label.sk-toggleable__label-arrow:before {\n",
              "  content: \"▾\";\n",
              "}\n",
              "\n",
              "/* Pipeline/ColumnTransformer-specific style */\n",
              "\n",
              "#sk-container-id-7 div.sk-label input.sk-toggleable__control:checked~label.sk-toggleable__label {\n",
              "  color: var(--sklearn-color-text);\n",
              "  background-color: var(--sklearn-color-unfitted-level-2);\n",
              "}\n",
              "\n",
              "#sk-container-id-7 div.sk-label.fitted input.sk-toggleable__control:checked~label.sk-toggleable__label {\n",
              "  background-color: var(--sklearn-color-fitted-level-2);\n",
              "}\n",
              "\n",
              "/* Estimator-specific style */\n",
              "\n",
              "/* Colorize estimator box */\n",
              "#sk-container-id-7 div.sk-estimator input.sk-toggleable__control:checked~label.sk-toggleable__label {\n",
              "  /* unfitted */\n",
              "  background-color: var(--sklearn-color-unfitted-level-2);\n",
              "}\n",
              "\n",
              "#sk-container-id-7 div.sk-estimator.fitted input.sk-toggleable__control:checked~label.sk-toggleable__label {\n",
              "  /* fitted */\n",
              "  background-color: var(--sklearn-color-fitted-level-2);\n",
              "}\n",
              "\n",
              "#sk-container-id-7 div.sk-label label.sk-toggleable__label,\n",
              "#sk-container-id-7 div.sk-label label {\n",
              "  /* The background is the default theme color */\n",
              "  color: var(--sklearn-color-text-on-default-background);\n",
              "}\n",
              "\n",
              "/* On hover, darken the color of the background */\n",
              "#sk-container-id-7 div.sk-label:hover label.sk-toggleable__label {\n",
              "  color: var(--sklearn-color-text);\n",
              "  background-color: var(--sklearn-color-unfitted-level-2);\n",
              "}\n",
              "\n",
              "/* Label box, darken color on hover, fitted */\n",
              "#sk-container-id-7 div.sk-label.fitted:hover label.sk-toggleable__label.fitted {\n",
              "  color: var(--sklearn-color-text);\n",
              "  background-color: var(--sklearn-color-fitted-level-2);\n",
              "}\n",
              "\n",
              "/* Estimator label */\n",
              "\n",
              "#sk-container-id-7 div.sk-label label {\n",
              "  font-family: monospace;\n",
              "  font-weight: bold;\n",
              "  display: inline-block;\n",
              "  line-height: 1.2em;\n",
              "}\n",
              "\n",
              "#sk-container-id-7 div.sk-label-container {\n",
              "  text-align: center;\n",
              "}\n",
              "\n",
              "/* Estimator-specific */\n",
              "#sk-container-id-7 div.sk-estimator {\n",
              "  font-family: monospace;\n",
              "  border: 1px dotted var(--sklearn-color-border-box);\n",
              "  border-radius: 0.25em;\n",
              "  box-sizing: border-box;\n",
              "  margin-bottom: 0.5em;\n",
              "  /* unfitted */\n",
              "  background-color: var(--sklearn-color-unfitted-level-0);\n",
              "}\n",
              "\n",
              "#sk-container-id-7 div.sk-estimator.fitted {\n",
              "  /* fitted */\n",
              "  background-color: var(--sklearn-color-fitted-level-0);\n",
              "}\n",
              "\n",
              "/* on hover */\n",
              "#sk-container-id-7 div.sk-estimator:hover {\n",
              "  /* unfitted */\n",
              "  background-color: var(--sklearn-color-unfitted-level-2);\n",
              "}\n",
              "\n",
              "#sk-container-id-7 div.sk-estimator.fitted:hover {\n",
              "  /* fitted */\n",
              "  background-color: var(--sklearn-color-fitted-level-2);\n",
              "}\n",
              "\n",
              "/* Specification for estimator info (e.g. \"i\" and \"?\") */\n",
              "\n",
              "/* Common style for \"i\" and \"?\" */\n",
              "\n",
              ".sk-estimator-doc-link,\n",
              "a:link.sk-estimator-doc-link,\n",
              "a:visited.sk-estimator-doc-link {\n",
              "  float: right;\n",
              "  font-size: smaller;\n",
              "  line-height: 1em;\n",
              "  font-family: monospace;\n",
              "  background-color: var(--sklearn-color-background);\n",
              "  border-radius: 1em;\n",
              "  height: 1em;\n",
              "  width: 1em;\n",
              "  text-decoration: none !important;\n",
              "  margin-left: 0.5em;\n",
              "  text-align: center;\n",
              "  /* unfitted */\n",
              "  border: var(--sklearn-color-unfitted-level-1) 1pt solid;\n",
              "  color: var(--sklearn-color-unfitted-level-1);\n",
              "}\n",
              "\n",
              ".sk-estimator-doc-link.fitted,\n",
              "a:link.sk-estimator-doc-link.fitted,\n",
              "a:visited.sk-estimator-doc-link.fitted {\n",
              "  /* fitted */\n",
              "  border: var(--sklearn-color-fitted-level-1) 1pt solid;\n",
              "  color: var(--sklearn-color-fitted-level-1);\n",
              "}\n",
              "\n",
              "/* On hover */\n",
              "div.sk-estimator:hover .sk-estimator-doc-link:hover,\n",
              ".sk-estimator-doc-link:hover,\n",
              "div.sk-label-container:hover .sk-estimator-doc-link:hover,\n",
              ".sk-estimator-doc-link:hover {\n",
              "  /* unfitted */\n",
              "  background-color: var(--sklearn-color-unfitted-level-3);\n",
              "  color: var(--sklearn-color-background);\n",
              "  text-decoration: none;\n",
              "}\n",
              "\n",
              "div.sk-estimator.fitted:hover .sk-estimator-doc-link.fitted:hover,\n",
              ".sk-estimator-doc-link.fitted:hover,\n",
              "div.sk-label-container:hover .sk-estimator-doc-link.fitted:hover,\n",
              ".sk-estimator-doc-link.fitted:hover {\n",
              "  /* fitted */\n",
              "  background-color: var(--sklearn-color-fitted-level-3);\n",
              "  color: var(--sklearn-color-background);\n",
              "  text-decoration: none;\n",
              "}\n",
              "\n",
              "/* Span, style for the box shown on hovering the info icon */\n",
              ".sk-estimator-doc-link span {\n",
              "  display: none;\n",
              "  z-index: 9999;\n",
              "  position: relative;\n",
              "  font-weight: normal;\n",
              "  right: .2ex;\n",
              "  padding: .5ex;\n",
              "  margin: .5ex;\n",
              "  width: min-content;\n",
              "  min-width: 20ex;\n",
              "  max-width: 50ex;\n",
              "  color: var(--sklearn-color-text);\n",
              "  box-shadow: 2pt 2pt 4pt #999;\n",
              "  /* unfitted */\n",
              "  background: var(--sklearn-color-unfitted-level-0);\n",
              "  border: .5pt solid var(--sklearn-color-unfitted-level-3);\n",
              "}\n",
              "\n",
              ".sk-estimator-doc-link.fitted span {\n",
              "  /* fitted */\n",
              "  background: var(--sklearn-color-fitted-level-0);\n",
              "  border: var(--sklearn-color-fitted-level-3);\n",
              "}\n",
              "\n",
              ".sk-estimator-doc-link:hover span {\n",
              "  display: block;\n",
              "}\n",
              "\n",
              "/* \"?\"-specific style due to the `<a>` HTML tag */\n",
              "\n",
              "#sk-container-id-7 a.estimator_doc_link {\n",
              "  float: right;\n",
              "  font-size: 1rem;\n",
              "  line-height: 1em;\n",
              "  font-family: monospace;\n",
              "  background-color: var(--sklearn-color-background);\n",
              "  border-radius: 1rem;\n",
              "  height: 1rem;\n",
              "  width: 1rem;\n",
              "  text-decoration: none;\n",
              "  /* unfitted */\n",
              "  color: var(--sklearn-color-unfitted-level-1);\n",
              "  border: var(--sklearn-color-unfitted-level-1) 1pt solid;\n",
              "}\n",
              "\n",
              "#sk-container-id-7 a.estimator_doc_link.fitted {\n",
              "  /* fitted */\n",
              "  border: var(--sklearn-color-fitted-level-1) 1pt solid;\n",
              "  color: var(--sklearn-color-fitted-level-1);\n",
              "}\n",
              "\n",
              "/* On hover */\n",
              "#sk-container-id-7 a.estimator_doc_link:hover {\n",
              "  /* unfitted */\n",
              "  background-color: var(--sklearn-color-unfitted-level-3);\n",
              "  color: var(--sklearn-color-background);\n",
              "  text-decoration: none;\n",
              "}\n",
              "\n",
              "#sk-container-id-7 a.estimator_doc_link.fitted:hover {\n",
              "  /* fitted */\n",
              "  background-color: var(--sklearn-color-fitted-level-3);\n",
              "}\n",
              "</style><div id=\"sk-container-id-7\" class=\"sk-top-container\"><div class=\"sk-text-repr-fallback\"><pre>ColumnTransformer(transformers=[(&#x27;num&#x27;,\n",
              "                                 Pipeline(steps=[(&#x27;imputer&#x27;, KNNImputer()),\n",
              "                                                 (&#x27;scaler&#x27;, StandardScaler())]),\n",
              "                                 [&#x27;age&#x27;, &#x27;trestbps&#x27;, &#x27;chol&#x27;, &#x27;thalach&#x27;,\n",
              "                                  &#x27;oldpeak&#x27;, &#x27;slope&#x27;, &#x27;ca&#x27;]),\n",
              "                                (&#x27;cat&#x27;,\n",
              "                                 Pipeline(steps=[(&#x27;imputer&#x27;, KNNImputer()),\n",
              "                                                 (&#x27;encoder&#x27;,\n",
              "                                                  OneHotEncoder(drop=&#x27;first&#x27;,\n",
              "                                                                handle_unknown=&#x27;ignore&#x27;))]),\n",
              "                                 [&#x27;sex&#x27;, &#x27;cp&#x27;, &#x27;fbs&#x27;, &#x27;restecg&#x27;, &#x27;exang&#x27;,\n",
              "                                  &#x27;thal&#x27;])])</pre><b>In a Jupyter environment, please rerun this cell to show the HTML representation or trust the notebook. <br />On GitHub, the HTML representation is unable to render, please try loading this page with nbviewer.org.</b></div><div class=\"sk-container\" hidden><div class=\"sk-item sk-dashed-wrapped\"><div class=\"sk-label-container\"><div class=\"sk-label fitted sk-toggleable\"><input class=\"sk-toggleable__control sk-hidden--visually\" id=\"sk-estimator-id-43\" type=\"checkbox\" ><label for=\"sk-estimator-id-43\" class=\"sk-toggleable__label fitted sk-toggleable__label-arrow\"><div><div>ColumnTransformer</div></div><div><a class=\"sk-estimator-doc-link fitted\" rel=\"noreferrer\" target=\"_blank\" href=\"https://scikit-learn.org/1.6/modules/generated/sklearn.compose.ColumnTransformer.html\">?<span>Documentation for ColumnTransformer</span></a><span class=\"sk-estimator-doc-link fitted\">i<span>Fitted</span></span></div></label><div class=\"sk-toggleable__content fitted\"><pre>ColumnTransformer(transformers=[(&#x27;num&#x27;,\n",
              "                                 Pipeline(steps=[(&#x27;imputer&#x27;, KNNImputer()),\n",
              "                                                 (&#x27;scaler&#x27;, StandardScaler())]),\n",
              "                                 [&#x27;age&#x27;, &#x27;trestbps&#x27;, &#x27;chol&#x27;, &#x27;thalach&#x27;,\n",
              "                                  &#x27;oldpeak&#x27;, &#x27;slope&#x27;, &#x27;ca&#x27;]),\n",
              "                                (&#x27;cat&#x27;,\n",
              "                                 Pipeline(steps=[(&#x27;imputer&#x27;, KNNImputer()),\n",
              "                                                 (&#x27;encoder&#x27;,\n",
              "                                                  OneHotEncoder(drop=&#x27;first&#x27;,\n",
              "                                                                handle_unknown=&#x27;ignore&#x27;))]),\n",
              "                                 [&#x27;sex&#x27;, &#x27;cp&#x27;, &#x27;fbs&#x27;, &#x27;restecg&#x27;, &#x27;exang&#x27;,\n",
              "                                  &#x27;thal&#x27;])])</pre></div> </div></div><div class=\"sk-parallel\"><div class=\"sk-parallel-item\"><div class=\"sk-item\"><div class=\"sk-label-container\"><div class=\"sk-label fitted sk-toggleable\"><input class=\"sk-toggleable__control sk-hidden--visually\" id=\"sk-estimator-id-44\" type=\"checkbox\" ><label for=\"sk-estimator-id-44\" class=\"sk-toggleable__label fitted sk-toggleable__label-arrow\"><div><div>num</div></div></label><div class=\"sk-toggleable__content fitted\"><pre>[&#x27;age&#x27;, &#x27;trestbps&#x27;, &#x27;chol&#x27;, &#x27;thalach&#x27;, &#x27;oldpeak&#x27;, &#x27;slope&#x27;, &#x27;ca&#x27;]</pre></div> </div></div><div class=\"sk-serial\"><div class=\"sk-item\"><div class=\"sk-serial\"><div class=\"sk-item\"><div class=\"sk-estimator fitted sk-toggleable\"><input class=\"sk-toggleable__control sk-hidden--visually\" id=\"sk-estimator-id-45\" type=\"checkbox\" ><label for=\"sk-estimator-id-45\" class=\"sk-toggleable__label fitted sk-toggleable__label-arrow\"><div><div>KNNImputer</div></div><div><a class=\"sk-estimator-doc-link fitted\" rel=\"noreferrer\" target=\"_blank\" href=\"https://scikit-learn.org/1.6/modules/generated/sklearn.impute.KNNImputer.html\">?<span>Documentation for KNNImputer</span></a></div></label><div class=\"sk-toggleable__content fitted\"><pre>KNNImputer()</pre></div> </div></div><div class=\"sk-item\"><div class=\"sk-estimator fitted sk-toggleable\"><input class=\"sk-toggleable__control sk-hidden--visually\" id=\"sk-estimator-id-46\" type=\"checkbox\" ><label for=\"sk-estimator-id-46\" class=\"sk-toggleable__label fitted sk-toggleable__label-arrow\"><div><div>StandardScaler</div></div><div><a class=\"sk-estimator-doc-link fitted\" rel=\"noreferrer\" target=\"_blank\" href=\"https://scikit-learn.org/1.6/modules/generated/sklearn.preprocessing.StandardScaler.html\">?<span>Documentation for StandardScaler</span></a></div></label><div class=\"sk-toggleable__content fitted\"><pre>StandardScaler()</pre></div> </div></div></div></div></div></div></div><div class=\"sk-parallel-item\"><div class=\"sk-item\"><div class=\"sk-label-container\"><div class=\"sk-label fitted sk-toggleable\"><input class=\"sk-toggleable__control sk-hidden--visually\" id=\"sk-estimator-id-47\" type=\"checkbox\" ><label for=\"sk-estimator-id-47\" class=\"sk-toggleable__label fitted sk-toggleable__label-arrow\"><div><div>cat</div></div></label><div class=\"sk-toggleable__content fitted\"><pre>[&#x27;sex&#x27;, &#x27;cp&#x27;, &#x27;fbs&#x27;, &#x27;restecg&#x27;, &#x27;exang&#x27;, &#x27;thal&#x27;]</pre></div> </div></div><div class=\"sk-serial\"><div class=\"sk-item\"><div class=\"sk-serial\"><div class=\"sk-item\"><div class=\"sk-estimator fitted sk-toggleable\"><input class=\"sk-toggleable__control sk-hidden--visually\" id=\"sk-estimator-id-48\" type=\"checkbox\" ><label for=\"sk-estimator-id-48\" class=\"sk-toggleable__label fitted sk-toggleable__label-arrow\"><div><div>KNNImputer</div></div><div><a class=\"sk-estimator-doc-link fitted\" rel=\"noreferrer\" target=\"_blank\" href=\"https://scikit-learn.org/1.6/modules/generated/sklearn.impute.KNNImputer.html\">?<span>Documentation for KNNImputer</span></a></div></label><div class=\"sk-toggleable__content fitted\"><pre>KNNImputer()</pre></div> </div></div><div class=\"sk-item\"><div class=\"sk-estimator fitted sk-toggleable\"><input class=\"sk-toggleable__control sk-hidden--visually\" id=\"sk-estimator-id-49\" type=\"checkbox\" ><label for=\"sk-estimator-id-49\" class=\"sk-toggleable__label fitted sk-toggleable__label-arrow\"><div><div>OneHotEncoder</div></div><div><a class=\"sk-estimator-doc-link fitted\" rel=\"noreferrer\" target=\"_blank\" href=\"https://scikit-learn.org/1.6/modules/generated/sklearn.preprocessing.OneHotEncoder.html\">?<span>Documentation for OneHotEncoder</span></a></div></label><div class=\"sk-toggleable__content fitted\"><pre>OneHotEncoder(drop=&#x27;first&#x27;, handle_unknown=&#x27;ignore&#x27;)</pre></div> </div></div></div></div></div></div></div></div></div></div></div>"
            ]
          },
          "metadata": {},
          "execution_count": 375
        }
      ],
      "source": [
        "preprocessor.fit(X_train)"
      ]
    },
    {
      "cell_type": "code",
      "execution_count": 376,
      "metadata": {
        "id": "j9_vFRsZZsbD"
      },
      "outputs": [],
      "source": [
        "X_train=preprocessor.transform(X_train)"
      ]
    },
    {
      "cell_type": "code",
      "execution_count": 377,
      "metadata": {
        "id": "b7I3hlT2ZRla"
      },
      "outputs": [],
      "source": [
        "X_test=preprocessor.transform(X_test)"
      ]
    },
    {
      "cell_type": "markdown",
      "metadata": {
        "id": "waipaV9_WW7o"
      },
      "source": [
        "## Gradient Descend"
      ]
    },
    {
      "cell_type": "code",
      "execution_count": 378,
      "metadata": {
        "id": "k5kXK5XGBGpX"
      },
      "outputs": [],
      "source": [
        "def sigmoid(z): #Función sigmoide\n",
        "    return 1/(1+np.exp(-z))"
      ]
    },
    {
      "cell_type": "code",
      "execution_count": 379,
      "metadata": {
        "id": "N1YQ--Stq7V5"
      },
      "outputs": [],
      "source": [
        "def cost_function(X, y, beta): #Negative log - likelihood (es la función de costo, lo que se quiere minimizar)\n",
        "    z = X @ beta\n",
        "    p = sigmoid(z)\n",
        "    return -np.mean(y*np.log(p + 1e-9) + (1 - y)*np.log(1 - p + 1e-9))"
      ]
    },
    {
      "cell_type": "code",
      "execution_count": 380,
      "metadata": {
        "id": "q1uYb-VnKlKd"
      },
      "outputs": [],
      "source": [
        "def gradient(X, y, beta): # Calculo de la gradiente\n",
        "    p = sigmoid(X @ beta)\n",
        "    return (X.T @ (p - y)) / len(y)\n"
      ]
    },
    {
      "cell_type": "code",
      "execution_count": 381,
      "metadata": {
        "id": "lOYFz1XEROaF"
      },
      "outputs": [],
      "source": [
        "def gradient_descent(X, y, lr=0.01, n_iter=100000): #Algoritmo de la gradiente descendiente\n",
        "    #Concatenar columna de 1s\n",
        "    X = np.hstack((np.ones((X.shape[0], 1)), X))\n",
        "    beta = np.zeros(X.shape[1])\n",
        "    cost_history = []\n",
        "    for _ in range(n_iter):\n",
        "        cost = cost_function(X, y, beta)\n",
        "        cost_history.append(cost)\n",
        "        grad = gradient(X, y, beta)\n",
        "        beta -= lr * grad\n",
        "        #Condición de convergencia:\n",
        "        if len(cost_history) > 1 and np.abs(cost_history[-1] - cost_history[-2]) < 1e-6:\n",
        "            print(f\"Convergencia alcanzada en la iteración {len(cost_history)} con un learning rate de {lr}\")\n",
        "            break\n",
        "    return beta, cost_history"
      ]
    },
    {
      "cell_type": "code",
      "execution_count": 382,
      "metadata": {
        "id": "J_9SFTP7SM5j"
      },
      "outputs": [],
      "source": [
        "def predict(X, beta): #Predicción de los betas\n",
        "    X = np.hstack((np.ones((X.shape[0], 1)), X))\n",
        "    return (sigmoid(X @ beta) >= 0.5).astype(int)"
      ]
    },
    {
      "cell_type": "code",
      "execution_count": 383,
      "metadata": {
        "colab": {
          "base_uri": "https://localhost:8080/",
          "height": 524
        },
        "id": "2_svanzqTvU5",
        "outputId": "7e39cfee-4bbb-432c-c54d-463d5286f5fd"
      },
      "outputs": [
        {
          "output_type": "stream",
          "name": "stdout",
          "text": [
            "Convergencia alcanzada en la iteración 3154 con un learning rate de 0.1\n",
            "Convergencia alcanzada en la iteración 8529 con un learning rate de 0.01\n",
            "Convergencia alcanzada en la iteración 23998 con un learning rate de 0.001\n"
          ]
        },
        {
          "output_type": "display_data",
          "data": {
            "text/plain": [
              "<Figure size 640x480 with 1 Axes>"
            ],
            "image/png": "[encoded data removed]"
          },
          "metadata": {}
        }
      ],
      "source": [
        "plt.title('Cost Function')\n",
        "plt.xlabel('Iterations')\n",
        "plt.ylabel('Cost')\n",
        "for i in [0.1, 0.01, 0.001]:\n",
        "  betas_gd, cost_=gradient_descent(X_train,np.ravel(y_train),i)\n",
        "  plt.plot(cost_, label=f'lr={i}')\n",
        "plt.legend()\n",
        "plt.show()\n"
      ]
    },
    {
      "cell_type": "markdown",
      "metadata": {
        "id": "1H_O2Cl3urcR"
      },
      "source": [
        "Se puede una convergencia más rápida para el **learning rate** de **0.1**"
      ]
    },
    {
      "cell_type": "markdown",
      "metadata": {
        "id": "HIwZnhCxWeQh"
      },
      "source": [
        "## Evaluation and Comparison"
      ]
    },
    {
      "cell_type": "code",
      "execution_count": 384,
      "metadata": {
        "colab": {
          "base_uri": "https://localhost:8080/",
          "height": 0
        },
        "id": "sFvA98NTZ_l6",
        "outputId": "6f0c1c6d-7af7-477a-e435-b2b90a7dca6f"
      },
      "outputs": [
        {
          "output_type": "stream",
          "name": "stdout",
          "text": [
            "Convergencia alcanzada en la iteración 3154 con un learning rate de 0.1\n",
            "[[43  6]\n",
            " [ 9 33]]\n",
            "0.8351648351648352\n",
            "              precision    recall  f1-score   support\n",
            "\n",
            "           0       0.83      0.88      0.85        49\n",
            "           1       0.85      0.79      0.81        42\n",
            "\n",
            "    accuracy                           0.84        91\n",
            "   macro avg       0.84      0.83      0.83        91\n",
            "weighted avg       0.84      0.84      0.83        91\n",
            "\n"
          ]
        }
      ],
      "source": [
        "beta_gd=gradient_descent(X_train,np.ravel(y_train), lr=0.1)\n",
        "y_predicted=predict(X_test, betas_gd)\n",
        "print(confusion_matrix(y_test, y_predicted))\n",
        "print(accuracy_score(y_test, y_predicted))\n",
        "print(classification_report(y_test,y_predicted))"
      ]
    },
    {
      "cell_type": "code",
      "execution_count": 385,
      "metadata": {
        "colab": {
          "base_uri": "https://localhost:8080/",
          "height": 0
        },
        "id": "g8dJml-Nac17",
        "outputId": "016fc160-d2b3-48cf-ba90-e904be9c72f2"
      },
      "outputs": [
        {
          "output_type": "stream",
          "name": "stdout",
          "text": [
            "[[44  5]\n",
            " [ 7 35]]\n",
            "0.8681318681318682\n",
            "              precision    recall  f1-score   support\n",
            "\n",
            "           0       0.86      0.90      0.88        49\n",
            "           1       0.88      0.83      0.85        42\n",
            "\n",
            "    accuracy                           0.87        91\n",
            "   macro avg       0.87      0.87      0.87        91\n",
            "weighted avg       0.87      0.87      0.87        91\n",
            "\n"
          ]
        },
        {
          "output_type": "stream",
          "name": "stderr",
          "text": [
            "/usr/local/lib/python3.12/dist-packages/sklearn/linear_model/_sag.py:348: ConvergenceWarning: The max_iter was reached which means the coef_ did not converge\n",
            "  warnings.warn(\n"
          ]
        }
      ],
      "source": [
        "#Regresión Logistica de Sk-learn\n",
        "mlogistic=LogisticRegression(penalty=None, solver='sag', tol=1e-6)\n",
        "mlogistic.fit(X_train,np.ravel(y_train))\n",
        "y_predicted=mlogistic.predict(X_test)\n",
        "print(confusion_matrix(y_test, y_predicted))\n",
        "print(accuracy_score(y_test, y_predicted))\n",
        "print(classification_report(y_test,y_predicted))"
      ]
    },
    {
      "cell_type": "markdown",
      "metadata": {
        "id": "PT-biqfEwlhE"
      },
      "source": [
        "Los valores se muestran en la comparación de las tablas. El accuracy del modelo de scikit-learn es ligeramente **superior** al obtenido manualmente, con una diferencia aproximada de 0.03. En general, esta tendencia se repite en las demás métricas: **F1-score (0.87 vs 0.83)**, **precision (0.87 vs 0.84)** y **recall (0.87 vs 0.84)**. Se observa, por tanto, que el modelo de scikit-learn realiza predicciones más precisas incluso cuando se emplean hiperparámetros similares.   \n",
        "Esto ocurre porque los métodos de optimización de sklearn ajustan el tamaño del paso de forma automática, sin usar un learning rate fijo (como SAG, LBFGS o Newton-CG) que ajustan adaptativamente el tamaño del paso de actualización en función de la curvatura del espacio de pérdida, logrando así una convergencia más eficiente y estable."
      ]
    },
    {
      "cell_type": "markdown",
      "metadata": {
        "id": "cTqZ1aApEhIC"
      },
      "source": [
        "# Part B"
      ]
    },
    {
      "cell_type": "code",
      "execution_count": 386,
      "metadata": {
        "colab": {
          "base_uri": "https://localhost:8080/",
          "height": 0
        },
        "id": "EJo8GQSrSIjW",
        "outputId": "140d549f-41cd-4d33-f7a2-8de25cf205dc"
      },
      "outputs": [
        {
          "output_type": "stream",
          "name": "stdout",
          "text": [
            ".. _wine_dataset:\n",
            "\n",
            "Wine recognition dataset\n",
            "------------------------\n",
            "\n",
            "**Data Set Characteristics:**\n",
            "\n",
            ":Number of Instances: 178\n",
            ":Number of Attributes: 13 numeric, predictive attributes and the class\n",
            ":Attribute Information:\n",
            "    - Alcohol\n",
            "    - Malic acid\n",
            "    - Ash\n",
            "    - Alcalinity of ash\n",
            "    - Magnesium\n",
            "    - Total phenols\n",
            "    - Flavanoids\n",
            "    - Nonflavanoid phenols\n",
            "    - Proanthocyanins\n",
            "    - Color intensity\n",
            "    - Hue\n",
            "    - OD280/OD315 of diluted wines\n",
            "    - Proline\n",
            "    - class:\n",
            "        - class_0\n",
            "        - class_1\n",
            "        - class_2\n",
            "\n",
            ":Summary Statistics:\n",
            "\n",
            "============================= ==== ===== ======= =====\n",
            "                                Min   Max   Mean     SD\n",
            "============================= ==== ===== ======= =====\n",
            "Alcohol:                      11.0  14.8    13.0   0.8\n",
            "Malic Acid:                   0.74  5.80    2.34  1.12\n",
            "Ash:                          1.36  3.23    2.36  0.27\n",
            "Alcalinity of Ash:            10.6  30.0    19.5   3.3\n",
            "Magnesium:                    70.0 162.0    99.7  14.3\n",
            "Total Phenols:                0.98  3.88    2.29  0.63\n",
            "Flavanoids:                   0.34  5.08    2.03  1.00\n",
            "Nonflavanoid Phenols:         0.13  0.66    0.36  0.12\n",
            "Proanthocyanins:              0.41  3.58    1.59  0.57\n",
            "Colour Intensity:              1.3  13.0     5.1   2.3\n",
            "Hue:                          0.48  1.71    0.96  0.23\n",
            "OD280/OD315 of diluted wines: 1.27  4.00    2.61  0.71\n",
            "Proline:                       278  1680     746   315\n",
            "============================= ==== ===== ======= =====\n",
            "\n",
            ":Missing Attribute Values: None\n",
            ":Class Distribution: class_0 (59), class_1 (71), class_2 (48)\n",
            ":Creator: R.A. Fisher\n",
            ":Donor: Michael Marshall (MARSHALL%PLU@io.arc.nasa.gov)\n",
            ":Date: July, 1988\n",
            "\n",
            "This is a copy of UCI ML Wine recognition datasets.\n",
            "https://archive.ics.uci.edu/ml/machine-learning-databases/wine/wine.data\n",
            "\n",
            "The data is the results of a chemical analysis of wines grown in the same\n",
            "region in Italy by three different cultivators. There are thirteen different\n",
            "measurements taken for different constituents found in the three types of\n",
            "wine.\n",
            "\n",
            "Original Owners:\n",
            "\n",
            "Forina, M. et al, PARVUS -\n",
            "An Extendible Package for Data Exploration, Classification and Correlation.\n",
            "Institute of Pharmaceutical and Food Analysis and Technologies,\n",
            "Via Brigata Salerno, 16147 Genoa, Italy.\n",
            "\n",
            "Citation:\n",
            "\n",
            "Lichman, M. (2013). UCI Machine Learning Repository\n",
            "[https://archive.ics.uci.edu/ml]. Irvine, CA: University of California,\n",
            "School of Information and Computer Science.\n",
            "\n",
            ".. dropdown:: References\n",
            "\n",
            "    (1) S. Aeberhard, D. Coomans and O. de Vel,\n",
            "    Comparison of Classifiers in High Dimensional Settings,\n",
            "    Tech. Rep. no. 92-02, (1992), Dept. of Computer Science and Dept. of\n",
            "    Mathematics and Statistics, James Cook University of North Queensland.\n",
            "    (Also submitted to Technometrics).\n",
            "\n",
            "    The data was used with many others for comparing various\n",
            "    classifiers. The classes are separable, though only RDA\n",
            "    has achieved 100% correct classification.\n",
            "    (RDA : 100%, QDA 99.4%, LDA 98.9%, 1NN 96.1% (z-transformed data))\n",
            "    (All results using the leave-one-out technique)\n",
            "\n",
            "    (2) S. Aeberhard, D. Coomans and O. de Vel,\n",
            "    \"THE CLASSIFICATION PERFORMANCE OF RDA\"\n",
            "    Tech. Rep. no. 92-01, (1992), Dept. of Computer Science and Dept. of\n",
            "    Mathematics and Statistics, James Cook University of North Queensland.\n",
            "    (Also submitted to Journal of Chemometrics).\n",
            "\n"
          ]
        }
      ],
      "source": [
        "print(load_wine(as_frame=True)['DESCR'])"
      ]
    },
    {
      "cell_type": "code",
      "execution_count": 387,
      "metadata": {
        "id": "3iEYXAk7Rnh8"
      },
      "outputs": [],
      "source": [
        "X_wine=load_wine(as_frame=True)['data']"
      ]
    },
    {
      "cell_type": "code",
      "execution_count": 388,
      "metadata": {
        "colab": {
          "base_uri": "https://localhost:8080/",
          "height": 491
        },
        "id": "oLAi7ohRddtG",
        "outputId": "0f4c8743-48e2-4471-881d-c25e2c012696"
      },
      "outputs": [
        {
          "output_type": "execute_result",
          "data": {
            "text/plain": [
              "alcohol                         0\n",
              "malic_acid                      0\n",
              "ash                             0\n",
              "alcalinity_of_ash               0\n",
              "magnesium                       0\n",
              "total_phenols                   0\n",
              "flavanoids                      0\n",
              "nonflavanoid_phenols            0\n",
              "proanthocyanins                 0\n",
              "color_intensity                 0\n",
              "hue                             0\n",
              "od280/od315_of_diluted_wines    0\n",
              "proline                         0\n",
              "dtype: int64"
            ],
            "text/html": [
              "<div>\n",
              "<style scoped>\n",
              "    .dataframe tbody tr th:only-of-type {\n",
              "        vertical-align: middle;\n",
              "    }\n",
              "\n",
              "    .dataframe tbody tr th {\n",
              "        vertical-align: top;\n",
              "    }\n",
              "\n",
              "    .dataframe thead th {\n",
              "        text-align: right;\n",
              "    }\n",
              "</style>\n",
              "<table border=\"1\" class=\"dataframe\">\n",
              "  <thead>\n",
              "    <tr style=\"text-align: right;\">\n",
              "      <th></th>\n",
              "      <th>0</th>\n",
              "    </tr>\n",
              "  </thead>\n",
              "  <tbody>\n",
              "    <tr>\n",
              "      <th>alcohol</th>\n",
              "      <td>0</td>\n",
              "    </tr>\n",
              "    <tr>\n",
              "      <th>malic_acid</th>\n",
              "      <td>0</td>\n",
              "    </tr>\n",
              "    <tr>\n",
              "      <th>ash</th>\n",
              "      <td>0</td>\n",
              "    </tr>\n",
              "    <tr>\n",
              "      <th>alcalinity_of_ash</th>\n",
              "      <td>0</td>\n",
              "    </tr>\n",
              "    <tr>\n",
              "      <th>magnesium</th>\n",
              "      <td>0</td>\n",
              "    </tr>\n",
              "    <tr>\n",
              "      <th>total_phenols</th>\n",
              "      <td>0</td>\n",
              "    </tr>\n",
              "    <tr>\n",
              "      <th>flavanoids</th>\n",
              "      <td>0</td>\n",
              "    </tr>\n",
              "    <tr>\n",
              "      <th>nonflavanoid_phenols</th>\n",
              "      <td>0</td>\n",
              "    </tr>\n",
              "    <tr>\n",
              "      <th>proanthocyanins</th>\n",
              "      <td>0</td>\n",
              "    </tr>\n",
              "    <tr>\n",
              "      <th>color_intensity</th>\n",
              "      <td>0</td>\n",
              "    </tr>\n",
              "    <tr>\n",
              "      <th>hue</th>\n",
              "      <td>0</td>\n",
              "    </tr>\n",
              "    <tr>\n",
              "      <th>od280/od315_of_diluted_wines</th>\n",
              "      <td>0</td>\n",
              "    </tr>\n",
              "    <tr>\n",
              "      <th>proline</th>\n",
              "      <td>0</td>\n",
              "    </tr>\n",
              "  </tbody>\n",
              "</table>\n",
              "</div><br><label><b>dtype:</b> int64</label>"
            ]
          },
          "metadata": {},
          "execution_count": 388
        }
      ],
      "source": [
        "X_wine.isna().sum() #No hay nulos, todo ok"
      ]
    },
    {
      "cell_type": "code",
      "execution_count": 389,
      "metadata": {
        "id": "JccklcoJSEly"
      },
      "outputs": [],
      "source": [
        "y_wine=load_wine(as_frame=True)['target']"
      ]
    },
    {
      "cell_type": "code",
      "execution_count": 390,
      "metadata": {
        "colab": {
          "base_uri": "https://localhost:8080/",
          "height": 209
        },
        "id": "JpxbiW1DenGK",
        "outputId": "7bc91b4d-8e3a-461f-ef14-40a3c357315c"
      },
      "outputs": [
        {
          "output_type": "execute_result",
          "data": {
            "text/plain": [
              "target\n",
              "1    71\n",
              "0    59\n",
              "2    48\n",
              "Name: count, dtype: int64"
            ],
            "text/html": [
              "<div>\n",
              "<style scoped>\n",
              "    .dataframe tbody tr th:only-of-type {\n",
              "        vertical-align: middle;\n",
              "    }\n",
              "\n",
              "    .dataframe tbody tr th {\n",
              "        vertical-align: top;\n",
              "    }\n",
              "\n",
              "    .dataframe thead th {\n",
              "        text-align: right;\n",
              "    }\n",
              "</style>\n",
              "<table border=\"1\" class=\"dataframe\">\n",
              "  <thead>\n",
              "    <tr style=\"text-align: right;\">\n",
              "      <th></th>\n",
              "      <th>count</th>\n",
              "    </tr>\n",
              "    <tr>\n",
              "      <th>target</th>\n",
              "      <th></th>\n",
              "    </tr>\n",
              "  </thead>\n",
              "  <tbody>\n",
              "    <tr>\n",
              "      <th>1</th>\n",
              "      <td>71</td>\n",
              "    </tr>\n",
              "    <tr>\n",
              "      <th>0</th>\n",
              "      <td>59</td>\n",
              "    </tr>\n",
              "    <tr>\n",
              "      <th>2</th>\n",
              "      <td>48</td>\n",
              "    </tr>\n",
              "  </tbody>\n",
              "</table>\n",
              "</div><br><label><b>dtype:</b> int64</label>"
            ]
          },
          "metadata": {},
          "execution_count": 390
        }
      ],
      "source": [
        "y_wine.value_counts(dropna=False) #Tipos de vino"
      ]
    },
    {
      "cell_type": "code",
      "execution_count": 391,
      "metadata": {
        "id": "qL8_CchyZ6-S"
      },
      "outputs": [],
      "source": [
        "X_train, X_test, y_train, y_test = train_test_split(X_wine, y_wine, test_size=0.3, random_state=1) #Se hace la partición 30/70"
      ]
    },
    {
      "cell_type": "code",
      "execution_count": 392,
      "metadata": {
        "id": "CxFuVgSgaGYH"
      },
      "outputs": [],
      "source": [
        "standarizer=StandardScaler()\n",
        "X_train=standarizer.fit_transform(X_train)\n",
        "X_test=standarizer.transform(X_test)"
      ]
    },
    {
      "cell_type": "markdown",
      "metadata": {
        "id": "_vfpWBP3eZoe"
      },
      "source": [
        "## OVA Implementation:"
      ]
    },
    {
      "cell_type": "code",
      "execution_count": 393,
      "metadata": {
        "id": "Gy1ayxYfdpp0"
      },
      "outputs": [],
      "source": [
        "def ova_training(X, y, n_iter=100000, lr=0.01):\n",
        "    betas = []\n",
        "    for i in range(3):\n",
        "        y_i = np.where(y == i, 1, 0)\n",
        "        beta, _ = gradient_descent(X, y_i, n_iter=n_iter, lr=lr)\n",
        "        betas.append(beta)\n",
        "    return betas"
      ]
    },
    {
      "cell_type": "code",
      "execution_count": 394,
      "metadata": {
        "id": "G2rEl83OdpnQ"
      },
      "outputs": [],
      "source": [
        "def ova_predict(X, betas):\n",
        "    X = np.hstack((np.ones((X.shape[0], 1)), X))\n",
        "    scores = np.array([X @ beta for beta in betas])\n",
        "    return np.argmax(scores, axis=0)"
      ]
    },
    {
      "cell_type": "code",
      "execution_count": 395,
      "metadata": {
        "colab": {
          "base_uri": "https://localhost:8080/",
          "height": 0
        },
        "id": "xIBGvtuiaRok",
        "outputId": "27ea703e-2977-47cb-cb08-ad4ec1776d7e"
      },
      "outputs": [
        {
          "output_type": "stream",
          "name": "stdout",
          "text": [
            "Convergencia alcanzada en la iteración 13072 con un learning rate de 0.01\n",
            "Convergencia alcanzada en la iteración 18383 con un learning rate de 0.01\n",
            "Convergencia alcanzada en la iteración 14582 con un learning rate de 0.01\n"
          ]
        }
      ],
      "source": [
        "betas_ova=ova_training(X_train,np.ravel(y_train))"
      ]
    },
    {
      "cell_type": "code",
      "execution_count": 396,
      "metadata": {
        "id": "afNH0K42dpkH"
      },
      "outputs": [],
      "source": [
        "y_predicted_ova=ova_predict(X_test, betas_ova)"
      ]
    },
    {
      "cell_type": "code",
      "execution_count": 397,
      "metadata": {
        "colab": {
          "base_uri": "https://localhost:8080/",
          "height": 0
        },
        "id": "ak5FqDTpdphG",
        "outputId": "902d4ab7-1bc7-4b8c-d834-16bf4b8e91f6"
      },
      "outputs": [
        {
          "output_type": "stream",
          "name": "stdout",
          "text": [
            "[[23  0  0]\n",
            " [ 0 19  0]\n",
            " [ 0  0 12]]\n",
            "1.0\n",
            "              precision    recall  f1-score   support\n",
            "\n",
            "           0       1.00      1.00      1.00        23\n",
            "           1       1.00      1.00      1.00        19\n",
            "           2       1.00      1.00      1.00        12\n",
            "\n",
            "    accuracy                           1.00        54\n",
            "   macro avg       1.00      1.00      1.00        54\n",
            "weighted avg       1.00      1.00      1.00        54\n",
            "\n"
          ]
        }
      ],
      "source": [
        "# Evaluar OVA Manual\n",
        "print(confusion_matrix(y_test, y_predicted_ova))\n",
        "print(accuracy_score(y_test, y_predicted_ova))\n",
        "print(classification_report(y_test,y_predicted_ova))"
      ]
    },
    {
      "cell_type": "code",
      "execution_count": 398,
      "metadata": {
        "colab": {
          "base_uri": "https://localhost:8080/",
          "height": 0
        },
        "id": "dMjIr8TycROA",
        "outputId": "96e61bdd-7652-4979-a1c5-abcdd856f429"
      },
      "outputs": [
        {
          "output_type": "execute_result",
          "data": {
            "text/plain": [
              "[array([-2.29690102,  1.61091006,  0.70630365,  1.16481108, -1.501371  ,\n",
              "         0.06793859,  0.14864237,  1.06062614, -0.2673327 , -0.2919899 ,\n",
              "        -0.026428  ,  0.26055068,  1.32848233,  2.52837593]),\n",
              " array([-1.36516066, -1.89495495, -0.99292186, -1.81901868,  1.00789569,\n",
              "         0.14274206,  0.18803577,  0.7569608 ,  0.54273123,  0.3356416 ,\n",
              "        -2.75174061,  1.35484449, -0.01311955, -2.91065969]),\n",
              " array([-2.88673936,  0.53541904,  0.52855161,  0.78748364,  0.48130225,\n",
              "        -0.01428652, -0.22850675, -1.82334878, -0.18869436, -0.51025213,\n",
              "         2.08507453, -1.32633671, -1.11917884,  0.18886274])]"
            ]
          },
          "metadata": {},
          "execution_count": 398
        }
      ],
      "source": [
        "betas_ova"
      ]
    },
    {
      "cell_type": "code",
      "execution_count": 399,
      "metadata": {
        "colab": {
          "base_uri": "https://localhost:8080/",
          "height": 0
        },
        "id": "l6oNT9nMdpd9",
        "outputId": "156d63e0-c358-4906-ac6e-1187553a2ac8"
      },
      "outputs": [
        {
          "output_type": "stream",
          "name": "stdout",
          "text": [
            "[[23  0  0]\n",
            " [ 0 19  0]\n",
            " [ 0  0 12]]\n",
            "1.0\n",
            "              precision    recall  f1-score   support\n",
            "\n",
            "           0       1.00      1.00      1.00        23\n",
            "           1       1.00      1.00      1.00        19\n",
            "           2       1.00      1.00      1.00        12\n",
            "\n",
            "    accuracy                           1.00        54\n",
            "   macro avg       1.00      1.00      1.00        54\n",
            "weighted avg       1.00      1.00      1.00        54\n",
            "\n"
          ]
        },
        {
          "output_type": "stream",
          "name": "stderr",
          "text": [
            "/usr/local/lib/python3.12/dist-packages/sklearn/linear_model/_logistic.py:1256: FutureWarning: 'multi_class' was deprecated in version 1.5 and will be removed in 1.7. Use OneVsRestClassifier(LogisticRegression(..)) instead. Leave it to its default value to avoid this warning.\n",
            "  warnings.warn(\n",
            "/usr/local/lib/python3.12/dist-packages/sklearn/linear_model/_sag.py:348: ConvergenceWarning: The max_iter was reached which means the coef_ did not converge\n",
            "  warnings.warn(\n"
          ]
        }
      ],
      "source": [
        "#Sklearn\n",
        "model_wine=LogisticRegression(multi_class=\"ovr\", penalty=None, solver='sag', tol=1e-6)\n",
        "model_wine.fit(X_train,np.ravel(y_train))\n",
        "y_predicted_sklearn=model_wine.predict(X_test)\n",
        "print(confusion_matrix(y_test, y_predicted_sklearn))\n",
        "print(accuracy_score(y_test, y_predicted_sklearn))\n",
        "print(classification_report(y_test,y_predicted_sklearn))"
      ]
    },
    {
      "cell_type": "code",
      "execution_count": 400,
      "metadata": {
        "colab": {
          "base_uri": "https://localhost:8080/",
          "height": 0
        },
        "id": "3CIXWIwZdpax",
        "outputId": "78fc1813-4e3f-474c-f235-a8f8b2d9f94c"
      },
      "outputs": [
        {
          "output_type": "execute_result",
          "data": {
            "text/plain": [
              "array([[ 2.78049302,  1.44083115,  2.21237757, -2.94855279,  0.24278874,\n",
              "         0.0753764 ,  1.94103872, -0.51610519, -0.72280355, -0.18178327,\n",
              "         0.26325549,  2.73269512,  4.08332204],\n",
              "       [-2.60004565, -1.62940184, -3.3634019 ,  1.85684646,  0.90926477,\n",
              "        -0.02863437,  1.70121512,  1.29014091,  0.44642866, -5.49581116,\n",
              "         2.17525536, -0.20174134, -5.47218899],\n",
              "       [ 0.92660018,  0.70954387,  1.73580558,  0.55278013, -0.54548195,\n",
              "         0.45549323, -3.91814221, -0.72011711, -1.15185571,  3.31374955,\n",
              "        -2.27461005, -1.98300495,  0.79881369]])"
            ]
          },
          "metadata": {},
          "execution_count": 400
        }
      ],
      "source": [
        "model_wine.coef_"
      ]
    },
    {
      "cell_type": "code",
      "execution_count": 401,
      "metadata": {
        "colab": {
          "base_uri": "https://localhost:8080/",
          "height": 0
        },
        "id": "EOMtXOZC43Bo",
        "outputId": "59d3e9d1-3739-480f-f495-547ec8cc726d"
      },
      "outputs": [
        {
          "output_type": "stream",
          "name": "stdout",
          "text": [
            "[[23  0  0]\n",
            " [ 0 19  0]\n",
            " [ 0  0 12]]\n",
            "1.0\n",
            "              precision    recall  f1-score   support\n",
            "\n",
            "           0       1.00      1.00      1.00        23\n",
            "           1       1.00      1.00      1.00        19\n",
            "           2       1.00      1.00      1.00        12\n",
            "\n",
            "    accuracy                           1.00        54\n",
            "   macro avg       1.00      1.00      1.00        54\n",
            "weighted avg       1.00      1.00      1.00        54\n",
            "\n"
          ]
        },
        {
          "output_type": "stream",
          "name": "stderr",
          "text": [
            "/usr/local/lib/python3.12/dist-packages/sklearn/linear_model/_logistic.py:1256: FutureWarning: 'multi_class' was deprecated in version 1.5 and will be removed in 1.7. Use OneVsRestClassifier(LogisticRegression(..)) instead. Leave it to its default value to avoid this warning.\n",
            "  warnings.warn(\n"
          ]
        }
      ],
      "source": [
        "#Sklearn (por default)\n",
        "model_wine=LogisticRegression(multi_class=\"ovr\")\n",
        "model_wine.fit(X_train,np.ravel(y_train))\n",
        "y_predicted_sklearn=model_wine.predict(X_test)\n",
        "print(confusion_matrix(y_test, y_predicted_sklearn))\n",
        "print(accuracy_score(y_test, y_predicted_sklearn))\n",
        "print(classification_report(y_test,y_predicted_sklearn))"
      ]
    },
    {
      "cell_type": "code",
      "execution_count": 402,
      "metadata": {
        "colab": {
          "base_uri": "https://localhost:8080/",
          "height": 0
        },
        "id": "W_oYv3Ac4_Uj",
        "outputId": "97592c1d-fcb9-4aaa-fa68-508adb31deb2"
      },
      "outputs": [
        {
          "output_type": "execute_result",
          "data": {
            "text/plain": [
              "array([[ 1.19876216,  0.49861341,  0.85995716, -1.09778894,  0.1426412 ,\n",
              "         0.19562955,  0.82653339, -0.29391332, -0.201802  , -0.06431   ,\n",
              "         0.24362507,  0.97759831,  1.82136133],\n",
              "       [-1.29266825, -0.69681691, -1.1313864 ,  0.63022357, -0.0076299 ,\n",
              "         0.1293651 ,  0.53496196,  0.29520228,  0.22205625, -1.82142839,\n",
              "         0.78530983, -0.01399813, -1.83103932],\n",
              "       [ 0.38206358,  0.50849781,  0.59338528,  0.381929  ,  0.04250663,\n",
              "        -0.34389729, -1.46104549,  0.05662405, -0.65974282,  1.1853721 ,\n",
              "        -1.11532205, -0.98533547,  0.17711464]])"
            ]
          },
          "metadata": {},
          "execution_count": 402
        }
      ],
      "source": [
        "model_wine.coef_"
      ]
    },
    {
      "cell_type": "markdown",
      "metadata": {
        "id": "kMWY7h6UcYhL"
      },
      "source": [
        "En este experimento se utilizaron tres clasificadores. El primero fue un modelo **One-vs-All** implementado manualmente, basado en el algoritmo desarrollado en la parte A. El segundo correspondió al **One-vs-All de *scikit-learn*** configurado con hiperparámetros similares al modelo manual, mientras que el tercero empleó la configuración **predeterminada** de *scikit-learn*.\n",
        "\n",
        "Los resultados muestran que todos los modelos obtuvieron un *accuracy* global perfecto (**1.0**). Los coeficientes del modelo predeterminado presentan valores absolutos relativamente menores, lo que indica un efecto de regularización que podría contribuir a mejorar la generalización del modelo."
      ]
    },
    {
      "cell_type": "markdown",
      "metadata": {
        "id": "nFOLdk35cf1w"
      },
      "source": [
        "# Part C\n",
        "Multinomial (Softmax) Logistic Regression from Scratch"
      ]
    },
    {
      "cell_type": "markdown",
      "metadata": {
        "id": "ssBV6HBOc2eg"
      },
      "source": [
        "We again maximize likelihood over a dataset  $\\mathcal{D}$.\n",
        "\\begin{align*}\n",
        "L(\\theta) & = \\prod_{i=1}^n P_\\theta (y^{(i)} \\mid x^{(i)}) = \\prod_{i=1}^n \\vec \\sigma(\\vec z^{(i)})_{y^{(i)}} \\\\\n",
        "& = \\prod_{i=1}^n \\left( \\frac{\\exp(\\theta_{y^{(i)}}^\\top x^{(i)})}{\\sum_{l=1}^K \\exp(\\theta_l^\\top x^{(i)})} \\right).\n",
        "\\end{align*}\n",
        "\n",
        "We optimize this using gradient descent on the **log-likelihood $\\ell(\\theta)$**, which has the form.\n",
        "\\begin{align*}\n",
        "\\ell(\\theta)=\\log[L(\\theta)]=\\sum_{i=1}^n\\theta_{y^{(i)}}^\\top x^{(i)}-\\sum_{i=1}^n\\log\\left[\\sum_{j=1}^K\\exp(\\theta_j^\\top x^{(i)})\\right].\n",
        "\\end{align*}\n",
        "\n",
        "Let us define:\n",
        "\\begin{align*}\n",
        "a &= \\sum_{i=1}^n \\theta_{y^{(i)}}^\\top x^{(i)}, \\\\\n",
        "b &= \\sum_{i=1}^n \\log \\left( \\sum_{j=1}^K \\exp(\\theta_j^\\top x^{(i)}) \\right),\n",
        "\\end{align*}\n",
        "so that $\\ell(\\theta) = a - b$.\n",
        "\n",
        "---\n",
        "\n",
        "### Derivative of $a$ with respect to $\\theta_l$\n",
        "\\begin{align*}\n",
        "\\frac{\\partial a}{\\partial \\theta_l}\n",
        "&= \\sum_{i=1}^n \\frac{\\partial}{\\partial \\theta_l}\\big(\\theta_{y^{(i)}}^\\top x^{(i)}\\big)\n",
        "= \\sum_{i=1}^n \\mathbf{1}\\{y^{(i)} = l\\} \\, x^{(i)}.\n",
        "\\end{align*}\n",
        "\n",
        "### Derivative of $b$ with respect to $\\theta_l$\n",
        "\\begin{align*}\n",
        "\\frac{\\partial b}{\\partial \\theta_l}\n",
        "&= \\sum_{i=1}^n\n",
        "\\frac{1}{\\sum_{j=1}^K \\exp(\\theta_j^\\top x^{(i)})}\n",
        "\\cdot\n",
        "\\frac{\\partial}{\\partial \\theta_l}\n",
        "\\left(\\sum_{j=1}^K \\exp(\\theta_j^\\top x^{(i)})\\right) \\\\\n",
        "&= \\sum_{i=1}^n\n",
        "\\frac{\\exp(\\theta_l^\\top x^{(i)})}{\\sum_{j=1}^K \\exp(\\theta_j^\\top x^{(i)})}\n",
        "\\, x^{(i)} \\\\\n",
        "&= \\sum_{i=1}^n\n",
        "\\sigma(\\mathbf{z}^{(i)})_l \\, x^{(i)},\n",
        "\\end{align*}\n",
        "where $\\sigma(\\mathbf{z}^{(i)})_l = P_\\theta(y=l \\mid x^{(i)})$.\n",
        "\n",
        "---\n",
        "\n",
        "### Gradient of the log-likelihood\n",
        "\\begin{align*}\n",
        "\\frac{\\partial \\ell(\\theta)}{\\partial \\theta_l}\n",
        "&= \\frac{\\partial a}{\\partial \\theta_l} - \\frac{\\partial b}{\\partial \\theta_l} \\\\\n",
        "&= \\sum_{i=1}^n\n",
        "\\left[\\mathbf{1}\\{y^{(i)} = l\\} - \\sigma(\\mathbf{z}^{(i)})_l\\right]\n",
        "x^{(i)}\n",
        "\\end{align*}"
      ]
    },
    {
      "cell_type": "markdown",
      "metadata": {
        "id": "Z_m71Z5sN6SQ"
      },
      "source": [
        "Implementation:"
      ]
    },
    {
      "cell_type": "code",
      "execution_count": 413,
      "metadata": {
        "id": "0Oa4WxUtpE8A"
      },
      "outputs": [],
      "source": [
        "def softmax(z): # Función softmax (con estabilidad numérica)\n",
        "    z -= np.max(z, axis=1, keepdims=True)       # Mejora la estabilidad numérica\n",
        "    exp_z = np.exp(z)\n",
        "    return exp_z / np.sum(exp_z, axis=1, keepdims=True)"
      ]
    },
    {
      "cell_type": "code",
      "execution_count": 414,
      "metadata": {
        "id": "uw8k0DbTP6_H"
      },
      "outputs": [],
      "source": [
        "def cost_function_softmax(X, y, beta): # Negative log-likelihood (función de costo a minimizar)\n",
        "    n = len(y)\n",
        "    z = X @ beta\n",
        "    z -= np.max(z, axis=1, keepdims=True)       # Corrección numérica\n",
        "    exp_z = np.exp(z)\n",
        "    sum_exp_z = np.sum(exp_z, axis=1, keepdims=True)\n",
        "    p = exp_z / sum_exp_z                       # Probabilidades predichas\n",
        "    y_one_hot = np.eye(p.shape[1])[y]           # Representación one-hot de las clases verdaderas\n",
        "    log_likelihood = np.sum(y_one_hot * z - np.log(sum_exp_z)) / n\n",
        "    return -log_likelihood                      # Se devuelve el negativo (para minimizar)"
      ]
    },
    {
      "cell_type": "code",
      "execution_count": 415,
      "metadata": {
        "id": "XPMBZ0eHo1gv"
      },
      "outputs": [],
      "source": [
        "def gradient_softmax(X, y, beta): # Cálculo de la gradiente\n",
        "    n = len(y)\n",
        "    p = softmax(X @ beta)\n",
        "    y_one_hot = np.eye(p.shape[1])[y]           # Matriz one-hot\n",
        "    grad = (X.T @ (p - y_one_hot)) / n\n",
        "    return grad"
      ]
    },
    {
      "cell_type": "code",
      "execution_count": 416,
      "metadata": {
        "id": "HN4QKgHGqYLA"
      },
      "outputs": [],
      "source": [
        "def softmax_gradient_descent(X, y, lr=0.01, n_iter=100000, tol=1e-6): # Algoritmo de la gradiente descendiente para softmax\n",
        "    n_classes = np.unique(y).shape[0]\n",
        "    X=np.hstack((np.ones((X.shape[0], 1)), X))\n",
        "    beta = np.zeros((X.shape[1], n_classes))    # Inicialización de los parámetros\n",
        "    cost_history = []\n",
        "\n",
        "    for i in range(n_iter):\n",
        "        cost = cost_function_softmax(X, y, beta)\n",
        "        cost_history.append(cost)\n",
        "        grad = gradient_softmax(X, y, beta)\n",
        "        beta -= lr * grad   # Actualización simultánea de todos los vectores de pesos\n",
        "\n",
        "        # Condición de convergencia\n",
        "        if i > 1 and np.abs(cost_history[-1] - cost_history[-2]) < tol:\n",
        "            print(f\"Convergencia alcanzada en la iteración {i} con un learning rate de {lr}\")\n",
        "            break\n",
        "\n",
        "    return beta, cost_history"
      ]
    },
    {
      "cell_type": "code",
      "execution_count": 417,
      "metadata": {
        "id": "eEqN9Ue1qf76"
      },
      "outputs": [],
      "source": [
        "def predict_softmax(X, beta): # Predicción de los betas\n",
        "    X=np.hstack((np.ones((X.shape[0], 1)), X))\n",
        "    return np.argmax(softmax(X @ beta), axis=1)"
      ]
    },
    {
      "cell_type": "code",
      "execution_count": 418,
      "metadata": {
        "colab": {
          "base_uri": "https://localhost:8080/",
          "height": 524
        },
        "id": "G6KrAGbUqf5M",
        "outputId": "f7b3ebfa-b512-4cdf-9790-de0fa036a77d"
      },
      "outputs": [
        {
          "output_type": "stream",
          "name": "stdout",
          "text": [
            "Convergencia alcanzada en la iteración 9709 con un learning rate de 0.1\n",
            "Convergencia alcanzada en la iteración 26613 con un learning rate de 0.01\n",
            "Convergencia alcanzada en la iteración 63395 con un learning rate de 0.001\n"
          ]
        },
        {
          "output_type": "display_data",
          "data": {
            "text/plain": [
              "<Figure size 640x480 with 1 Axes>"
            ],
            "image/png": "[encoded data removed]"
          },
          "metadata": {}
        }
      ],
      "source": [
        "plt.title('Cost Function')\n",
        "plt.xlabel('Iterations')\n",
        "plt.ylabel('Cost')\n",
        "for i in [0.1, 0.01, 0.001]:\n",
        "  betas_softmax, cost_=softmax_gradient_descent(X_train,np.ravel(y_train),i)\n",
        "  plt.plot(cost_, label=f'lr={i}')\n",
        "plt.legend()\n",
        "plt.show()"
      ]
    },
    {
      "cell_type": "markdown",
      "metadata": {
        "id": "obf-OdDk8ctO"
      },
      "source": [
        "En comparación con el enfoque **One-vs-All**, el modelo **multinomial (softmax)** alcanza la convergencia con una **menor cantidad total de iteraciones** (26613  frente a 13 072 + 18 383 + 14 582 en OvA). Esto se debe a que, al actualizar simultáneamente todos los vectores de pesos, el algoritmo aprovecha mejor la información compartida entre clases, evitando redundancias en el cálculo de los gradientes.\n",
        "\n",
        "Además, se observa que **un mayor *learning rate*** permite alcanzar la convergencia en un **menor número de iteraciones**, aunque con el riesgo potencial de **oscilaciones** si el paso es demasiado grande. En este experimento, los valores de lr = 0.1, 0.01 y 0.001 muestran curvas de costo descendentes estables, con una convergencia más rápida para tasas de aprendizaje más altas.\n"
      ]
    },
    {
      "cell_type": "markdown",
      "metadata": {
        "id": "e1Hfn1lKrG6M"
      },
      "source": [
        "## Evaluation and Comparison"
      ]
    },
    {
      "cell_type": "code",
      "execution_count": 419,
      "metadata": {
        "colab": {
          "base_uri": "https://localhost:8080/"
        },
        "id": "THc9zsHKrbOG",
        "outputId": "479e3c74-7ca9-4642-c4a4-aae7c8a5b43e"
      },
      "outputs": [
        {
          "output_type": "stream",
          "name": "stdout",
          "text": [
            "Convergencia alcanzada en la iteración 13072 con un learning rate de 0.01\n",
            "Convergencia alcanzada en la iteración 18383 con un learning rate de 0.01\n",
            "Convergencia alcanzada en la iteración 14582 con un learning rate de 0.01\n",
            "[[23  0  0]\n",
            " [ 0 19  0]\n",
            " [ 0  0 12]]\n",
            "1.0\n",
            "              precision    recall  f1-score   support\n",
            "\n",
            "           0       1.00      1.00      1.00        23\n",
            "           1       1.00      1.00      1.00        19\n",
            "           2       1.00      1.00      1.00        12\n",
            "\n",
            "    accuracy                           1.00        54\n",
            "   macro avg       1.00      1.00      1.00        54\n",
            "weighted avg       1.00      1.00      1.00        54\n",
            "\n"
          ]
        }
      ],
      "source": [
        "#Usando all vs one\n",
        "betas_ova=ova_training(X_train,np.ravel(y_train))\n",
        "y_predicted_ova=ova_predict(X_test, betas_ova)\n",
        "print(confusion_matrix(y_test, y_predicted_ova))\n",
        "print(accuracy_score(y_test, y_predicted_ova))\n",
        "print(classification_report(y_test,y_predicted_ova))"
      ]
    },
    {
      "cell_type": "code",
      "execution_count": 420,
      "metadata": {
        "colab": {
          "base_uri": "https://localhost:8080/"
        },
        "id": "21_DhpAgq-nK",
        "outputId": "70785209-d485-4dfb-81bf-1b89f78fdb53"
      },
      "outputs": [
        {
          "output_type": "stream",
          "name": "stdout",
          "text": [
            "Convergencia alcanzada en la iteración 26613 con un learning rate de 0.01\n",
            "[[23  0  0]\n",
            " [ 0 19  0]\n",
            " [ 0  0 12]]\n",
            "1.0\n",
            "              precision    recall  f1-score   support\n",
            "\n",
            "           0       1.00      1.00      1.00        23\n",
            "           1       1.00      1.00      1.00        19\n",
            "           2       1.00      1.00      1.00        12\n",
            "\n",
            "    accuracy                           1.00        54\n",
            "   macro avg       1.00      1.00      1.00        54\n",
            "weighted avg       1.00      1.00      1.00        54\n",
            "\n"
          ]
        }
      ],
      "source": [
        "#Softmax implementado\n",
        "betas_softmax, cost_=softmax_gradient_descent(X_train,np.ravel(y_train))\n",
        "y_predicted_softmax=predict_softmax(X_test, betas_softmax)\n",
        "print(confusion_matrix(y_test, y_predicted_softmax))\n",
        "print(accuracy_score(y_test, y_predicted_softmax))\n",
        "print(classification_report(y_test,y_predicted_softmax))"
      ]
    },
    {
      "cell_type": "code",
      "execution_count": 421,
      "metadata": {
        "colab": {
          "base_uri": "https://localhost:8080/"
        },
        "id": "UfQS9syyr4NE",
        "outputId": "33e73bd3-186e-4c49-c6b1-84e7d0a654e8"
      },
      "outputs": [
        {
          "output_type": "stream",
          "name": "stdout",
          "text": [
            "[[23  0  0]\n",
            " [ 0 19  0]\n",
            " [ 0  0 12]]\n",
            "1.0\n",
            "              precision    recall  f1-score   support\n",
            "\n",
            "           0       1.00      1.00      1.00        23\n",
            "           1       1.00      1.00      1.00        19\n",
            "           2       1.00      1.00      1.00        12\n",
            "\n",
            "    accuracy                           1.00        54\n",
            "   macro avg       1.00      1.00      1.00        54\n",
            "weighted avg       1.00      1.00      1.00        54\n",
            "\n"
          ]
        },
        {
          "output_type": "stream",
          "name": "stderr",
          "text": [
            "/usr/local/lib/python3.12/dist-packages/sklearn/linear_model/_logistic.py:1256: FutureWarning: 'multi_class' was deprecated in version 1.5 and will be removed in 1.7. Use OneVsRestClassifier(LogisticRegression(..)) instead. Leave it to its default value to avoid this warning.\n",
            "  warnings.warn(\n"
          ]
        }
      ],
      "source": [
        "#Usando sklearn ova\n",
        "model_wine=LogisticRegression(multi_class='ovr')\n",
        "model_wine.fit(X_train,np.ravel(y_train))\n",
        "y_predicted_sklearn=model_wine.predict(X_test)\n",
        "print(confusion_matrix(y_test, y_predicted_sklearn))\n",
        "print(accuracy_score(y_test, y_predicted_sklearn))\n",
        "print(classification_report(y_test,y_predicted_sklearn))"
      ]
    },
    {
      "cell_type": "code",
      "execution_count": 422,
      "metadata": {
        "colab": {
          "base_uri": "https://localhost:8080/"
        },
        "id": "v8j_3dzgq-jT",
        "outputId": "12679776-b0ba-4195-fb25-b1b07db21f1b"
      },
      "outputs": [
        {
          "output_type": "stream",
          "name": "stderr",
          "text": [
            "/usr/local/lib/python3.12/dist-packages/sklearn/linear_model/_logistic.py:1247: FutureWarning: 'multi_class' was deprecated in version 1.5 and will be removed in 1.7. From then on, it will always use 'multinomial'. Leave it to its default value to avoid this warning.\n",
            "  warnings.warn(\n"
          ]
        },
        {
          "output_type": "stream",
          "name": "stdout",
          "text": [
            "[[23  0  0]\n",
            " [ 0 19  0]\n",
            " [ 0  0 12]]\n",
            "1.0\n",
            "              precision    recall  f1-score   support\n",
            "\n",
            "           0       1.00      1.00      1.00        23\n",
            "           1       1.00      1.00      1.00        19\n",
            "           2       1.00      1.00      1.00        12\n",
            "\n",
            "    accuracy                           1.00        54\n",
            "   macro avg       1.00      1.00      1.00        54\n",
            "weighted avg       1.00      1.00      1.00        54\n",
            "\n"
          ]
        }
      ],
      "source": [
        "#Usando sklearn multinomial\n",
        "model_wine=LogisticRegression(multi_class=\"multinomial\", solver='lbfgs')\n",
        "model_wine.fit(X_train,np.ravel(y_train))\n",
        "y_predicted_sklearn=model_wine.predict(X_test)\n",
        "print(confusion_matrix(y_test, y_predicted_sklearn))\n",
        "print(accuracy_score(y_test, y_predicted_sklearn))\n",
        "print(classification_report(y_test,y_predicted_sklearn))"
      ]
    },
    {
      "cell_type": "markdown",
      "metadata": {
        "id": "WvPtMu4s9U4A"
      },
      "source": [
        "En los experimentos realizados, todos los modelos alcanzaron una **clasificación correcta y sin errores**, lo que sugiere que, más allá de las posibles diferencias en efectividad entre el enfoque **softmax multinomial** y el enfoque **One-vs-All**, la principal ventaja práctica del primero radica en su **mayor eficiencia computacional**. Al actualizar simultáneamente todos los vectores de pesos, el modelo softmax reduce la redundancia en los cálculos y acelera el proceso de convergencia sin comprometer el desempeño predictivo."
      ]
    }
  ],
  "metadata": {
    "colab": {
      "toc_visible": true,
      "provenance": []
    },
    "kernelspec": {
      "display_name": "Python 3",
      "name": "python3"
    },
    "language_info": {
      "name": "python"
    }
  },
  "nbformat": 4,
  "nbformat_minor": 0
}